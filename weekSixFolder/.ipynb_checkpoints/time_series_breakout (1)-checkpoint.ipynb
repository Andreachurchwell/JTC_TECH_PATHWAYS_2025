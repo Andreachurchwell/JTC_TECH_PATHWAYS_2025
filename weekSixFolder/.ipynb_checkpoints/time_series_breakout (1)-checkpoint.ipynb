{
 "cells": [
  {
   "cell_type": "markdown",
   "id": "b1ddcdd0",
   "metadata": {},
   "source": [
    "# 🧩 Breakout Exercise: Decompose and Detect\n",
    "\n",
    "This short breakout exercise helps you practice time series analysis using the classic AirPassengers dataset.\n",
    "Estimated time: **15 minutes**.\n",
    "\n",
    "---\n",
    "\n",
    "### ✅ Objectives\n",
    "\n",
    "1. Load and parse the AirPassengers dataset\n",
    "2. Compute a 12-month rolling average\n",
    "3. Perform seasonal decomposition\n",
    "4. Plot and interpret trend and seasonality\n",
    "5. *(Bonus)* Create a lagged time series\n"
   ]
  },
  {
   "cell_type": "markdown",
   "id": "ff2a9b2b",
   "metadata": {},
   "source": [
    "## 📦 Step 1: Load the Data"
   ]
  },
  {
   "cell_type": "code",
   "execution_count": null,
   "id": "1525effa",
   "metadata": {},
   "outputs": [],
   "source": [
    "import pandas as pd\n",
    "import matplotlib.pyplot as plt\n",
    "from statsmodels.tsa.seasonal import seasonal_decompose\n",
    "\n",
    "# Load dataset (monthly airline passenger counts)\n",
    "url = \"https://raw.githubusercontent.com/jbrownlee/Datasets/master/airline-passengers.csv\"\n",
    "df = pd.read_csv(url)\n",
    "\n",
    "# Clean and convert columns\n",
    "df.columns = ['date', 'passengers']\n",
    "df['date'] = pd.to_datetime(df['date'])\n",
    "df.set_index('date', inplace=True)\n",
    "\n",
    "# Preview the data\n",
    "df.head()"
   ]
  },
  {
   "cell_type": "markdown",
   "id": "a6edaa87",
   "metadata": {},
   "source": [
    "## 🔹 Step 2: Compute a 12-Month Rolling Average"
   ]
  },
  {
   "cell_type": "code",
   "execution_count": null,
   "id": "f4ffd334",
   "metadata": {},
   "outputs": [],
   "source": [
    "df['rolling_mean'] = df['passengers'].rolling(window=12).mean()\n",
    "\n",
    "# Plot original vs rolling average\n",
    "df[['passengers', 'rolling_mean']].plot(figsize=(10, 5), title=\"Passengers vs 12-Month Rolling Average\")\n",
    "plt.ylabel(\"Number of Passengers\")\n",
    "plt.grid(True)\n",
    "plt.show()"
   ]
  },
  {
   "cell_type": "markdown",
   "id": "d34e4c15",
   "metadata": {},
   "source": [
    "## 🔹 Step 3: Perform Additive Seasonal Decomposition"
   ]
  },
  {
   "cell_type": "code",
   "execution_count": null,
   "id": "69f1e38c",
   "metadata": {},
   "outputs": [],
   "source": [
    "result = seasonal_decompose(df['passengers'], model='additive', period=12)\n",
    "\n",
    "# Plot decomposition\n",
    "result.plot()\n",
    "plt.tight_layout()\n",
    "plt.show()"
   ]
  },
  {
   "cell_type": "markdown",
   "id": "576c26c1",
   "metadata": {},
   "source": [
    "## 🔹 Step 4 (Bonus): Lag the Series by One Month"
   ]
  },
  {
   "cell_type": "code",
   "execution_count": null,
   "id": "cd405b89",
   "metadata": {},
   "outputs": [],
   "source": [
    "df['lagged'] = df['passengers'].shift(1)\n",
    "\n",
    "# Plot original vs lagged\n",
    "df[['passengers', 'lagged']].plot(figsize=(10, 4), title=\"Original vs Lagged Passengers\")\n",
    "plt.ylabel(\"Number of Passengers\")\n",
    "plt.grid(True)\n",
    "plt.show()"
   ]
  },
  {
   "cell_type": "markdown",
   "id": "c2982379",
   "metadata": {},
   "source": [
    "## ✅ Wrap-Up Discussion\n",
    "\n",
    "- What insights did the rolling average give?\n",
    "- What did you observe in the trend and seasonal components?\n",
    "- How might a lagged series be useful in predictive modeling?\n",
    "\n",
    "Great work! 🎉"
   ]
  }
 ],
 "metadata": {},
 "nbformat": 4,
 "nbformat_minor": 5
}
