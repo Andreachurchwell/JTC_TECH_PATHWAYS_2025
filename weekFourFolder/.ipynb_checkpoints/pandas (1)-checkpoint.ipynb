{
 "cells": [
  {
   "cell_type": "code",
   "execution_count": null,
   "id": "e12565d8-6692-403f-8bc0-e2420bffc5ea",
   "metadata": {},
   "outputs": [],
   "source": [
    "import pandas as pd\n",
    "import numpy as np\n"
   ]
  },
  {
   "cell_type": "code",
   "execution_count": null,
   "id": "b1c69866-fdd5-4a40-9c7a-d64571fbd567",
   "metadata": {},
   "outputs": [],
   "source": [
    "temps = pd.Series([32, 25, 28, 75, 42], index=['New York', 'Seattle', 'San Francisco', 'Montreal', 'Phoenix' ] )"
   ]
  },
  {
   "cell_type": "code",
   "execution_count": null,
   "id": "889acf99-6289-45c3-9d74-9bba37b8a643",
   "metadata": {},
   "outputs": [
    {
     "data": {
      "text/plain": [
       "New York         32\n",
       "Seattle          25\n",
       "San Francisco    28\n",
       "Montreal         75\n",
       "Phoenix          42\n",
       "dtype: int64"
      ]
     },
     "execution_count": 13,
     "metadata": {},
     "output_type": "execute_result"
    }
   ],
   "source": [
    "temps\n"
   ]
  },
  {
   "cell_type": "code",
   "execution_count": null,
   "id": "bd231ea8-d31e-4229-9404-f384ba7f6db0",
   "metadata": {},
   "outputs": [
    {
     "data": {
      "text/plain": [
       "32    2\n",
       "25    1\n",
       "28    1\n",
       "75    1\n",
       "42    1\n",
       "Name: count, dtype: int64"
      ]
     },
     "execution_count": 7,
     "metadata": {},
     "output_type": "execute_result"
    }
   ],
   "source": [
    "# temps.values\n",
    "# temps.index\n",
    "# temps.max()\n",
    "# temps.describe\n",
    "# temps.value_counts()"
   ]
  },
  {
   "cell_type": "code",
   "execution_count": null,
   "id": "11f04e9c-65bd-478d-b4e5-5b9dfb05dbef",
   "metadata": {},
   "outputs": [],
   "source": [
    "dict = {'New York': 32, 'Seattle': 25, 'San Francisco': 28, 'Montreal': 75, 'Phoenix': 42}"
   ]
  },
  {
   "cell_type": "code",
   "execution_count": null,
   "id": "05c251fa-7e6e-4148-86e0-92d6c374e62a",
   "metadata": {},
   "outputs": [
    {
     "data": {
      "text/plain": [
       "New York         32\n",
       "Seattle          25\n",
       "San Francisco    28\n",
       "Montreal         75\n",
       "Phoenix          42\n",
       "dtype: int64"
      ]
     },
     "execution_count": 16,
     "metadata": {},
     "output_type": "execute_result"
    }
   ],
   "source": [
    "temps = pd.Series(dict)\n",
    "temps"
   ]
  },
  {
   "cell_type": "code",
   "execution_count": null,
   "id": "35726872-aa94-4987-84b1-6bc245af63ad",
   "metadata": {},
   "outputs": [
    {
     "data": {
      "text/plain": [
       "Seattle          25\n",
       "San Francisco    28\n",
       "Montreal         75\n",
       "dtype: int64"
      ]
     },
     "execution_count": 18,
     "metadata": {},
     "output_type": "execute_result"
    }
   ],
   "source": [
    "temps['Seattle' : 'Montreal']"
   ]
  },
  {
   "cell_type": "code",
   "execution_count": 19,
   "id": "906f7e61-6789-4556-acc8-7f59f19f93ec",
   "metadata": {},
   "outputs": [
    {
     "data": {
      "text/plain": [
       "New York          89.6\n",
       "Seattle           77.0\n",
       "San Francisco     82.4\n",
       "Montreal         167.0\n",
       "Phoenix          107.6\n",
       "dtype: float64"
      ]
     },
     "execution_count": 19,
     "metadata": {},
     "output_type": "execute_result"
    }
   ],
   "source": [
    "celsius_temps = temps * 9/5 + 32\n",
    "celsius_temps"
   ]
  },
  {
   "cell_type": "code",
   "execution_count": 20,
   "id": "a6ac725c-f7cf-48ac-981f-abd043b57257",
   "metadata": {},
   "outputs": [
    {
     "data": {
      "text/plain": [
       "New York        -57.6\n",
       "Seattle         -52.0\n",
       "San Francisco   -54.4\n",
       "Montreal        -92.0\n",
       "Phoenix         -65.6\n",
       "dtype: float64"
      ]
     },
     "execution_count": 20,
     "metadata": {},
     "output_type": "execute_result"
    }
   ],
   "source": [
    "diff = temps - celsius_temps\n",
    "diff"
   ]
  },
  {
   "cell_type": "code",
   "execution_count": 21,
   "id": "8579fefb-a37a-46ef-9adc-2c9d13fe8d8b",
   "metadata": {},
   "outputs": [
    {
     "data": {
      "text/plain": [
       "Index(['New York', 'Seattle', 'San Francisco', 'Montreal', 'Phoenix'], dtype='object')"
      ]
     },
     "execution_count": 21,
     "metadata": {},
     "output_type": "execute_result"
    }
   ],
   "source": [
    "diff.index"
   ]
  },
  {
   "cell_type": "code",
   "execution_count": 22,
   "id": "64f1f4a2-0f07-4145-a846-9af8d1162ef3",
   "metadata": {},
   "outputs": [
    {
     "data": {
      "text/plain": [
       "dtype('float64')"
      ]
     },
     "execution_count": 22,
     "metadata": {},
     "output_type": "execute_result"
    }
   ],
   "source": [
    "diff.dtype"
   ]
  },
  {
   "cell_type": "code",
   "execution_count": 23,
   "id": "f34a4d98-c4b6-4a07-af3c-0bdd4c0049e2",
   "metadata": {},
   "outputs": [
    {
     "data": {
      "text/plain": [
       "<bound method NDFrame.describe of New York        -57.6\n",
       "Seattle         -52.0\n",
       "San Francisco   -54.4\n",
       "Montreal        -92.0\n",
       "Phoenix         -65.6\n",
       "dtype: float64>"
      ]
     },
     "execution_count": 23,
     "metadata": {},
     "output_type": "execute_result"
    }
   ],
   "source": [
    "diff.describe"
   ]
  },
  {
   "cell_type": "code",
   "execution_count": 24,
   "id": "0b54723a-2d75-4314-a5e4-a023517b3e93",
   "metadata": {},
   "outputs": [
    {
     "data": {
      "text/plain": [
       "<bound method Series.min of New York        -57.6\n",
       "Seattle         -52.0\n",
       "San Francisco   -54.4\n",
       "Montreal        -92.0\n",
       "Phoenix         -65.6\n",
       "dtype: float64>"
      ]
     },
     "execution_count": 24,
     "metadata": {},
     "output_type": "execute_result"
    }
   ],
   "source": [
    "diff.min"
   ]
  },
  {
   "cell_type": "code",
   "execution_count": 25,
   "id": "325327a9-ece6-402b-9e34-2bfa4c1a26c4",
   "metadata": {},
   "outputs": [],
   "source": [
    "missing_temps = pd.Series([34, 75, np.nan, 43, np.nan])"
   ]
  },
  {
   "cell_type": "code",
   "execution_count": 27,
   "id": "aca3d46f-faf1-40c8-a993-70c0962e90d7",
   "metadata": {},
   "outputs": [
    {
     "data": {
      "text/plain": [
       "0    False\n",
       "1    False\n",
       "2     True\n",
       "3    False\n",
       "4     True\n",
       "dtype: bool"
      ]
     },
     "execution_count": 27,
     "metadata": {},
     "output_type": "execute_result"
    }
   ],
   "source": [
    "missing_temps.isna()"
   ]
  },
  {
   "cell_type": "code",
   "execution_count": 28,
   "id": "996424e3-92e0-419a-b17a-4943119f5fea",
   "metadata": {},
   "outputs": [],
   "source": [
    "filled = missing_temps.fillna(0)"
   ]
  },
  {
   "cell_type": "code",
   "execution_count": 30,
   "id": "dffbe6fd-cb3b-4734-a320-aa06d2b96bab",
   "metadata": {},
   "outputs": [
    {
     "data": {
      "text/plain": [
       "0    34.0\n",
       "1    75.0\n",
       "3    43.0\n",
       "dtype: float64"
      ]
     },
     "execution_count": 30,
     "metadata": {},
     "output_type": "execute_result"
    }
   ],
   "source": [
    "dropped = missing_temps.dropna()\n",
    "dropped"
   ]
  },
  {
   "cell_type": "code",
   "execution_count": 32,
   "id": "a631f204-4053-4b2c-a1c7-a81061c7f9f3",
   "metadata": {},
   "outputs": [
    {
     "data": {
      "text/plain": [
       "Montreal    75\n",
       "dtype: int64"
      ]
     },
     "execution_count": 32,
     "metadata": {},
     "output_type": "execute_result"
    }
   ],
   "source": [
    "temps[temps >74]"
   ]
  },
  {
   "cell_type": "code",
   "execution_count": null,
   "id": "b07134da-e7b9-4634-ae98-6102eb7cb130",
   "metadata": {},
   "outputs": [],
   "source": [
    "# create a series of daily temperatures with custom day laels\n",
    "# create a series of daily precipitation values\n",
    "# claculate the average temperature, the total precipitation\n",
    "#find days where the temperatrue is > x and and the precipitation is < than y"
   ]
  },
  {
   "cell_type": "code",
   "execution_count": 34,
   "id": "4baa8254-d373-4e21-8996-ea72d12aba90",
   "metadata": {},
   "outputs": [
    {
     "data": {
      "text/html": [
       "<div>\n",
       "<style scoped>\n",
       "    .dataframe tbody tr th:only-of-type {\n",
       "        vertical-align: middle;\n",
       "    }\n",
       "\n",
       "    .dataframe tbody tr th {\n",
       "        vertical-align: top;\n",
       "    }\n",
       "\n",
       "    .dataframe thead th {\n",
       "        text-align: right;\n",
       "    }\n",
       "</style>\n",
       "<table border=\"1\" class=\"dataframe\">\n",
       "  <thead>\n",
       "    <tr style=\"text-align: right;\">\n",
       "      <th></th>\n",
       "      <th>date</th>\n",
       "      <th>temperature</th>\n",
       "      <th>humidity</th>\n",
       "      <th>precipitation</th>\n",
       "      <th>wind_speed</th>\n",
       "    </tr>\n",
       "  </thead>\n",
       "  <tbody>\n",
       "    <tr>\n",
       "      <th>0</th>\n",
       "      <td>2023-05-01</td>\n",
       "      <td>72</td>\n",
       "      <td>65</td>\n",
       "      <td>0.0</td>\n",
       "      <td>8</td>\n",
       "    </tr>\n",
       "    <tr>\n",
       "      <th>1</th>\n",
       "      <td>2023-05-02</td>\n",
       "      <td>75</td>\n",
       "      <td>70</td>\n",
       "      <td>0.2</td>\n",
       "      <td>12</td>\n",
       "    </tr>\n",
       "    <tr>\n",
       "      <th>2</th>\n",
       "      <td>2023-05-03</td>\n",
       "      <td>69</td>\n",
       "      <td>75</td>\n",
       "      <td>0.5</td>\n",
       "      <td>15</td>\n",
       "    </tr>\n",
       "    <tr>\n",
       "      <th>3</th>\n",
       "      <td>2023-05-04</td>\n",
       "      <td>78</td>\n",
       "      <td>60</td>\n",
       "      <td>0.0</td>\n",
       "      <td>10</td>\n",
       "    </tr>\n",
       "    <tr>\n",
       "      <th>4</th>\n",
       "      <td>2023-05-05</td>\n",
       "      <td>82</td>\n",
       "      <td>55</td>\n",
       "      <td>0.0</td>\n",
       "      <td>7</td>\n",
       "    </tr>\n",
       "  </tbody>\n",
       "</table>\n",
       "</div>"
      ],
      "text/plain": [
       "         date  temperature  humidity  precipitation  wind_speed\n",
       "0  2023-05-01           72        65            0.0           8\n",
       "1  2023-05-02           75        70            0.2          12\n",
       "2  2023-05-03           69        75            0.5          15\n",
       "3  2023-05-04           78        60            0.0          10\n",
       "4  2023-05-05           82        55            0.0           7"
      ]
     },
     "execution_count": 34,
     "metadata": {},
     "output_type": "execute_result"
    }
   ],
   "source": [
    "weather_records = [\n",
    "    {'date': '2023-05-01', 'temperature': 72, 'humidity': 65, 'precipitation': 0.0, 'wind_speed': 8},\n",
    "    {'date': '2023-05-02', 'temperature': 75, 'humidity': 70, 'precipitation': 0.2, 'wind_speed': 12},\n",
    "    {'date': '2023-05-03', 'temperature': 69, 'humidity': 75, 'precipitation': 0.5, 'wind_speed': 15},\n",
    "    {'date': '2023-05-04', 'temperature': 78, 'humidity': 60, 'precipitation': 0.0, 'wind_speed': 10},\n",
    "    {'date': '2023-05-05', 'temperature': 82, 'humidity': 55, 'precipitation': 0.0, 'wind_speed': 7},\n",
    "]\n",
    "\n",
    "weather_data = {\n",
    "    'date': ['2023-05-01', '2023-05-02', '2023-05-03', '2023-05-04', '2023-05-05'],\n",
    "    'temperature': [72, 75, 69, 78, 82],\n",
    "    'humidity': [65, 70, 75, 60, 55],\n",
    "    'precipitation': [0.0, 0.2, 0.5, 0.0, 0.0],\n",
    "    'wind_speed': [8, 12, 15, 10, 7]\n",
    "}\n",
    "df = pd.DataFrame(weather_records)\n",
    "df"
   ]
  },
  {
   "cell_type": "code",
   "execution_count": 35,
   "id": "7236c749-6f90-4f7d-9e1b-1cbe6c30e940",
   "metadata": {},
   "outputs": [
    {
     "data": {
      "text/plain": [
       "(5, 5)"
      ]
     },
     "execution_count": 35,
     "metadata": {},
     "output_type": "execute_result"
    }
   ],
   "source": [
    "df.shape"
   ]
  },
  {
   "cell_type": "code",
   "execution_count": 36,
   "id": "72ea4e94-eecd-4dde-81e0-7327735b42d4",
   "metadata": {},
   "outputs": [
    {
     "data": {
      "text/plain": [
       "RangeIndex(start=0, stop=5, step=1)"
      ]
     },
     "execution_count": 36,
     "metadata": {},
     "output_type": "execute_result"
    }
   ],
   "source": [
    "df.index"
   ]
  },
  {
   "cell_type": "code",
   "execution_count": 37,
   "id": "690b30d1-c00c-4bb1-b42f-bf36a38e4572",
   "metadata": {},
   "outputs": [
    {
     "data": {
      "text/html": [
       "<div>\n",
       "<style scoped>\n",
       "    .dataframe tbody tr th:only-of-type {\n",
       "        vertical-align: middle;\n",
       "    }\n",
       "\n",
       "    .dataframe tbody tr th {\n",
       "        vertical-align: top;\n",
       "    }\n",
       "\n",
       "    .dataframe thead th {\n",
       "        text-align: right;\n",
       "    }\n",
       "</style>\n",
       "<table border=\"1\" class=\"dataframe\">\n",
       "  <thead>\n",
       "    <tr style=\"text-align: right;\">\n",
       "      <th></th>\n",
       "      <th>temperature</th>\n",
       "      <th>humidity</th>\n",
       "      <th>precipitation</th>\n",
       "      <th>wind_speed</th>\n",
       "    </tr>\n",
       "    <tr>\n",
       "      <th>date</th>\n",
       "      <th></th>\n",
       "      <th></th>\n",
       "      <th></th>\n",
       "      <th></th>\n",
       "    </tr>\n",
       "  </thead>\n",
       "  <tbody>\n",
       "    <tr>\n",
       "      <th>2023-05-01</th>\n",
       "      <td>72</td>\n",
       "      <td>65</td>\n",
       "      <td>0.0</td>\n",
       "      <td>8</td>\n",
       "    </tr>\n",
       "    <tr>\n",
       "      <th>2023-05-02</th>\n",
       "      <td>75</td>\n",
       "      <td>70</td>\n",
       "      <td>0.2</td>\n",
       "      <td>12</td>\n",
       "    </tr>\n",
       "    <tr>\n",
       "      <th>2023-05-03</th>\n",
       "      <td>69</td>\n",
       "      <td>75</td>\n",
       "      <td>0.5</td>\n",
       "      <td>15</td>\n",
       "    </tr>\n",
       "    <tr>\n",
       "      <th>2023-05-04</th>\n",
       "      <td>78</td>\n",
       "      <td>60</td>\n",
       "      <td>0.0</td>\n",
       "      <td>10</td>\n",
       "    </tr>\n",
       "    <tr>\n",
       "      <th>2023-05-05</th>\n",
       "      <td>82</td>\n",
       "      <td>55</td>\n",
       "      <td>0.0</td>\n",
       "      <td>7</td>\n",
       "    </tr>\n",
       "  </tbody>\n",
       "</table>\n",
       "</div>"
      ],
      "text/plain": [
       "            temperature  humidity  precipitation  wind_speed\n",
       "date                                                        \n",
       "2023-05-01           72        65            0.0           8\n",
       "2023-05-02           75        70            0.2          12\n",
       "2023-05-03           69        75            0.5          15\n",
       "2023-05-04           78        60            0.0          10\n",
       "2023-05-05           82        55            0.0           7"
      ]
     },
     "execution_count": 37,
     "metadata": {},
     "output_type": "execute_result"
    }
   ],
   "source": [
    "df.set_index('date')"
   ]
  },
  {
   "cell_type": "code",
   "execution_count": 38,
   "id": "d4e81999-68c5-4a0e-b335-0ee32c738e3f",
   "metadata": {},
   "outputs": [
    {
     "data": {
      "text/html": [
       "<div>\n",
       "<style scoped>\n",
       "    .dataframe tbody tr th:only-of-type {\n",
       "        vertical-align: middle;\n",
       "    }\n",
       "\n",
       "    .dataframe tbody tr th {\n",
       "        vertical-align: top;\n",
       "    }\n",
       "\n",
       "    .dataframe thead th {\n",
       "        text-align: right;\n",
       "    }\n",
       "</style>\n",
       "<table border=\"1\" class=\"dataframe\">\n",
       "  <thead>\n",
       "    <tr style=\"text-align: right;\">\n",
       "      <th></th>\n",
       "      <th>date</th>\n",
       "      <th>temperature</th>\n",
       "      <th>humidity</th>\n",
       "      <th>precipitation</th>\n",
       "      <th>wind_speed</th>\n",
       "    </tr>\n",
       "  </thead>\n",
       "  <tbody>\n",
       "    <tr>\n",
       "      <th>0</th>\n",
       "      <td>2023-05-01</td>\n",
       "      <td>72</td>\n",
       "      <td>65</td>\n",
       "      <td>0.0</td>\n",
       "      <td>8</td>\n",
       "    </tr>\n",
       "    <tr>\n",
       "      <th>1</th>\n",
       "      <td>2023-05-02</td>\n",
       "      <td>75</td>\n",
       "      <td>70</td>\n",
       "      <td>0.2</td>\n",
       "      <td>12</td>\n",
       "    </tr>\n",
       "    <tr>\n",
       "      <th>2</th>\n",
       "      <td>2023-05-03</td>\n",
       "      <td>69</td>\n",
       "      <td>75</td>\n",
       "      <td>0.5</td>\n",
       "      <td>15</td>\n",
       "    </tr>\n",
       "    <tr>\n",
       "      <th>3</th>\n",
       "      <td>2023-05-04</td>\n",
       "      <td>78</td>\n",
       "      <td>60</td>\n",
       "      <td>0.0</td>\n",
       "      <td>10</td>\n",
       "    </tr>\n",
       "    <tr>\n",
       "      <th>4</th>\n",
       "      <td>2023-05-05</td>\n",
       "      <td>82</td>\n",
       "      <td>55</td>\n",
       "      <td>0.0</td>\n",
       "      <td>7</td>\n",
       "    </tr>\n",
       "  </tbody>\n",
       "</table>\n",
       "</div>"
      ],
      "text/plain": [
       "         date  temperature  humidity  precipitation  wind_speed\n",
       "0  2023-05-01           72        65            0.0           8\n",
       "1  2023-05-02           75        70            0.2          12\n",
       "2  2023-05-03           69        75            0.5          15\n",
       "3  2023-05-04           78        60            0.0          10\n",
       "4  2023-05-05           82        55            0.0           7"
      ]
     },
     "execution_count": 38,
     "metadata": {},
     "output_type": "execute_result"
    }
   ],
   "source": [
    "df = pd.DataFrame(weather_records)\n",
    "df"
   ]
  },
  {
   "cell_type": "code",
   "execution_count": 39,
   "id": "6e9936fd-5834-48eb-81a1-65c6cfd2d71e",
   "metadata": {},
   "outputs": [
    {
     "data": {
      "text/html": [
       "<div>\n",
       "<style scoped>\n",
       "    .dataframe tbody tr th:only-of-type {\n",
       "        vertical-align: middle;\n",
       "    }\n",
       "\n",
       "    .dataframe tbody tr th {\n",
       "        vertical-align: top;\n",
       "    }\n",
       "\n",
       "    .dataframe thead th {\n",
       "        text-align: right;\n",
       "    }\n",
       "</style>\n",
       "<table border=\"1\" class=\"dataframe\">\n",
       "  <thead>\n",
       "    <tr style=\"text-align: right;\">\n",
       "      <th></th>\n",
       "      <th>0</th>\n",
       "      <th>1</th>\n",
       "      <th>2</th>\n",
       "      <th>3</th>\n",
       "      <th>4</th>\n",
       "    </tr>\n",
       "  </thead>\n",
       "  <tbody>\n",
       "    <tr>\n",
       "      <th>0</th>\n",
       "      <td>2023-05-01</td>\n",
       "      <td>2023-05-02</td>\n",
       "      <td>2023-05-03</td>\n",
       "      <td>2023-05-04</td>\n",
       "      <td>2023-05-05</td>\n",
       "    </tr>\n",
       "    <tr>\n",
       "      <th>1</th>\n",
       "      <td>72</td>\n",
       "      <td>75</td>\n",
       "      <td>69</td>\n",
       "      <td>78</td>\n",
       "      <td>82</td>\n",
       "    </tr>\n",
       "    <tr>\n",
       "      <th>2</th>\n",
       "      <td>65</td>\n",
       "      <td>70</td>\n",
       "      <td>75</td>\n",
       "      <td>60</td>\n",
       "      <td>55</td>\n",
       "    </tr>\n",
       "    <tr>\n",
       "      <th>3</th>\n",
       "      <td>0.0</td>\n",
       "      <td>0.2</td>\n",
       "      <td>0.5</td>\n",
       "      <td>0.0</td>\n",
       "      <td>0.0</td>\n",
       "    </tr>\n",
       "    <tr>\n",
       "      <th>4</th>\n",
       "      <td>8</td>\n",
       "      <td>12</td>\n",
       "      <td>15</td>\n",
       "      <td>10</td>\n",
       "      <td>7</td>\n",
       "    </tr>\n",
       "  </tbody>\n",
       "</table>\n",
       "</div>"
      ],
      "text/plain": [
       "            0           1           2           3           4\n",
       "0  2023-05-01  2023-05-02  2023-05-03  2023-05-04  2023-05-05\n",
       "1          72          75          69          78          82\n",
       "2          65          70          75          60          55\n",
       "3         0.0         0.2         0.5         0.0         0.0\n",
       "4           8          12          15          10           7"
      ]
     },
     "execution_count": 39,
     "metadata": {},
     "output_type": "execute_result"
    }
   ],
   "source": [
    "unknown_weather = [\n",
    "    ['2023-05-01', '2023-05-02', '2023-05-03', '2023-05-04', '2023-05-05'],\n",
    "    [72, 75, 69, 78, 82],     # temperature\n",
    "    [65, 70, 75, 60, 55],     # humidity\n",
    "    [0.0, 0.2, 0.5, 0.0, 0.0],# precipitation\n",
    "    [8, 12, 15, 10, 7]        # wind_speed\n",
    "]\n",
    "\n",
    "df3 = pd.DataFrame(unknown_weather)\n",
    "df3\n"
   ]
  },
  {
   "cell_type": "code",
   "execution_count": 41,
   "id": "8f8b05aa-47de-4ef0-acfa-f962015b7d73",
   "metadata": {},
   "outputs": [
    {
     "data": {
      "text/html": [
       "<div>\n",
       "<style scoped>\n",
       "    .dataframe tbody tr th:only-of-type {\n",
       "        vertical-align: middle;\n",
       "    }\n",
       "\n",
       "    .dataframe tbody tr th {\n",
       "        vertical-align: top;\n",
       "    }\n",
       "\n",
       "    .dataframe thead th {\n",
       "        text-align: right;\n",
       "    }\n",
       "</style>\n",
       "<table border=\"1\" class=\"dataframe\">\n",
       "  <thead>\n",
       "    <tr style=\"text-align: right;\">\n",
       "      <th></th>\n",
       "      <th>date</th>\n",
       "      <th>temperature</th>\n",
       "      <th>humidity</th>\n",
       "      <th>precipitation</th>\n",
       "      <th>wind_speed</th>\n",
       "    </tr>\n",
       "  </thead>\n",
       "  <tbody>\n",
       "    <tr>\n",
       "      <th>0</th>\n",
       "      <td>2023-05-01</td>\n",
       "      <td>72</td>\n",
       "      <td>65</td>\n",
       "      <td>0.0</td>\n",
       "      <td>8</td>\n",
       "    </tr>\n",
       "    <tr>\n",
       "      <th>1</th>\n",
       "      <td>2023-05-02</td>\n",
       "      <td>75</td>\n",
       "      <td>70</td>\n",
       "      <td>0.2</td>\n",
       "      <td>12</td>\n",
       "    </tr>\n",
       "  </tbody>\n",
       "</table>\n",
       "</div>"
      ],
      "text/plain": [
       "         date  temperature  humidity  precipitation  wind_speed\n",
       "0  2023-05-01           72        65            0.0           8\n",
       "1  2023-05-02           75        70            0.2          12"
      ]
     },
     "execution_count": 41,
     "metadata": {},
     "output_type": "execute_result"
    }
   ],
   "source": [
    "df.head(2)"
   ]
  },
  {
   "cell_type": "code",
   "execution_count": 42,
   "id": "50bc5cdc-45ee-401a-87a2-3b7ba31788d5",
   "metadata": {},
   "outputs": [
    {
     "name": "stdout",
     "output_type": "stream",
     "text": [
      "<class 'pandas.core.frame.DataFrame'>\n",
      "RangeIndex: 5 entries, 0 to 4\n",
      "Data columns (total 5 columns):\n",
      " #   Column         Non-Null Count  Dtype  \n",
      "---  ------         --------------  -----  \n",
      " 0   date           5 non-null      object \n",
      " 1   temperature    5 non-null      int64  \n",
      " 2   humidity       5 non-null      int64  \n",
      " 3   precipitation  5 non-null      float64\n",
      " 4   wind_speed     5 non-null      int64  \n",
      "dtypes: float64(1), int64(3), object(1)\n",
      "memory usage: 332.0+ bytes\n"
     ]
    }
   ],
   "source": [
    "df.info()"
   ]
  },
  {
   "cell_type": "code",
   "execution_count": 43,
   "id": "25059575-056e-4182-b87f-a374134e0ba7",
   "metadata": {},
   "outputs": [
    {
     "data": {
      "text/html": [
       "<div>\n",
       "<style scoped>\n",
       "    .dataframe tbody tr th:only-of-type {\n",
       "        vertical-align: middle;\n",
       "    }\n",
       "\n",
       "    .dataframe tbody tr th {\n",
       "        vertical-align: top;\n",
       "    }\n",
       "\n",
       "    .dataframe thead th {\n",
       "        text-align: right;\n",
       "    }\n",
       "</style>\n",
       "<table border=\"1\" class=\"dataframe\">\n",
       "  <thead>\n",
       "    <tr style=\"text-align: right;\">\n",
       "      <th></th>\n",
       "      <th>temperature</th>\n",
       "      <th>humidity</th>\n",
       "      <th>precipitation</th>\n",
       "      <th>wind_speed</th>\n",
       "    </tr>\n",
       "  </thead>\n",
       "  <tbody>\n",
       "    <tr>\n",
       "      <th>count</th>\n",
       "      <td>5.000000</td>\n",
       "      <td>5.000000</td>\n",
       "      <td>5.000000</td>\n",
       "      <td>5.000000</td>\n",
       "    </tr>\n",
       "    <tr>\n",
       "      <th>mean</th>\n",
       "      <td>75.200000</td>\n",
       "      <td>65.000000</td>\n",
       "      <td>0.140000</td>\n",
       "      <td>10.400000</td>\n",
       "    </tr>\n",
       "    <tr>\n",
       "      <th>std</th>\n",
       "      <td>5.069517</td>\n",
       "      <td>7.905694</td>\n",
       "      <td>0.219089</td>\n",
       "      <td>3.209361</td>\n",
       "    </tr>\n",
       "    <tr>\n",
       "      <th>min</th>\n",
       "      <td>69.000000</td>\n",
       "      <td>55.000000</td>\n",
       "      <td>0.000000</td>\n",
       "      <td>7.000000</td>\n",
       "    </tr>\n",
       "    <tr>\n",
       "      <th>25%</th>\n",
       "      <td>72.000000</td>\n",
       "      <td>60.000000</td>\n",
       "      <td>0.000000</td>\n",
       "      <td>8.000000</td>\n",
       "    </tr>\n",
       "    <tr>\n",
       "      <th>50%</th>\n",
       "      <td>75.000000</td>\n",
       "      <td>65.000000</td>\n",
       "      <td>0.000000</td>\n",
       "      <td>10.000000</td>\n",
       "    </tr>\n",
       "    <tr>\n",
       "      <th>75%</th>\n",
       "      <td>78.000000</td>\n",
       "      <td>70.000000</td>\n",
       "      <td>0.200000</td>\n",
       "      <td>12.000000</td>\n",
       "    </tr>\n",
       "    <tr>\n",
       "      <th>max</th>\n",
       "      <td>82.000000</td>\n",
       "      <td>75.000000</td>\n",
       "      <td>0.500000</td>\n",
       "      <td>15.000000</td>\n",
       "    </tr>\n",
       "  </tbody>\n",
       "</table>\n",
       "</div>"
      ],
      "text/plain": [
       "       temperature   humidity  precipitation  wind_speed\n",
       "count     5.000000   5.000000       5.000000    5.000000\n",
       "mean     75.200000  65.000000       0.140000   10.400000\n",
       "std       5.069517   7.905694       0.219089    3.209361\n",
       "min      69.000000  55.000000       0.000000    7.000000\n",
       "25%      72.000000  60.000000       0.000000    8.000000\n",
       "50%      75.000000  65.000000       0.000000   10.000000\n",
       "75%      78.000000  70.000000       0.200000   12.000000\n",
       "max      82.000000  75.000000       0.500000   15.000000"
      ]
     },
     "execution_count": 43,
     "metadata": {},
     "output_type": "execute_result"
    }
   ],
   "source": [
    "df.describe()"
   ]
  },
  {
   "cell_type": "code",
   "execution_count": 45,
   "id": "fea730d5-7a59-46bc-a3f8-b0585e68c163",
   "metadata": {},
   "outputs": [
    {
     "data": {
      "text/plain": [
       "0    72\n",
       "1    75\n",
       "2    69\n",
       "3    78\n",
       "4    82\n",
       "Name: temperature, dtype: int64"
      ]
     },
     "execution_count": 45,
     "metadata": {},
     "output_type": "execute_result"
    }
   ],
   "source": [
    "df['temperature']"
   ]
  },
  {
   "cell_type": "code",
   "execution_count": 46,
   "id": "61d30c64-7566-420a-b2c5-e58dc79d742d",
   "metadata": {},
   "outputs": [
    {
     "data": {
      "text/html": [
       "<div>\n",
       "<style scoped>\n",
       "    .dataframe tbody tr th:only-of-type {\n",
       "        vertical-align: middle;\n",
       "    }\n",
       "\n",
       "    .dataframe tbody tr th {\n",
       "        vertical-align: top;\n",
       "    }\n",
       "\n",
       "    .dataframe thead th {\n",
       "        text-align: right;\n",
       "    }\n",
       "</style>\n",
       "<table border=\"1\" class=\"dataframe\">\n",
       "  <thead>\n",
       "    <tr style=\"text-align: right;\">\n",
       "      <th></th>\n",
       "      <th>temperature</th>\n",
       "      <th>humidity</th>\n",
       "    </tr>\n",
       "  </thead>\n",
       "  <tbody>\n",
       "    <tr>\n",
       "      <th>0</th>\n",
       "      <td>72</td>\n",
       "      <td>65</td>\n",
       "    </tr>\n",
       "    <tr>\n",
       "      <th>1</th>\n",
       "      <td>75</td>\n",
       "      <td>70</td>\n",
       "    </tr>\n",
       "    <tr>\n",
       "      <th>2</th>\n",
       "      <td>69</td>\n",
       "      <td>75</td>\n",
       "    </tr>\n",
       "    <tr>\n",
       "      <th>3</th>\n",
       "      <td>78</td>\n",
       "      <td>60</td>\n",
       "    </tr>\n",
       "    <tr>\n",
       "      <th>4</th>\n",
       "      <td>82</td>\n",
       "      <td>55</td>\n",
       "    </tr>\n",
       "  </tbody>\n",
       "</table>\n",
       "</div>"
      ],
      "text/plain": [
       "   temperature  humidity\n",
       "0           72        65\n",
       "1           75        70\n",
       "2           69        75\n",
       "3           78        60\n",
       "4           82        55"
      ]
     },
     "execution_count": 46,
     "metadata": {},
     "output_type": "execute_result"
    }
   ],
   "source": [
    "df[['temperature', 'humidity']]"
   ]
  },
  {
   "cell_type": "code",
   "execution_count": null,
   "id": "8ca07bb6-f2dc-47cb-8530-0fd8b0e6021d",
   "metadata": {},
   "outputs": [],
   "source": [
    "#loc- references \n",
    "#iloc- references the indexes we set"
   ]
  },
  {
   "cell_type": "code",
   "execution_count": 48,
   "id": "a1b292ca-7b59-4cda-866c-09a54f66f5b4",
   "metadata": {},
   "outputs": [
    {
     "data": {
      "text/html": [
       "<div>\n",
       "<style scoped>\n",
       "    .dataframe tbody tr th:only-of-type {\n",
       "        vertical-align: middle;\n",
       "    }\n",
       "\n",
       "    .dataframe tbody tr th {\n",
       "        vertical-align: top;\n",
       "    }\n",
       "\n",
       "    .dataframe thead th {\n",
       "        text-align: right;\n",
       "    }\n",
       "</style>\n",
       "<table border=\"1\" class=\"dataframe\">\n",
       "  <thead>\n",
       "    <tr style=\"text-align: right;\">\n",
       "      <th></th>\n",
       "      <th>date</th>\n",
       "      <th>temperature</th>\n",
       "      <th>humidity</th>\n",
       "      <th>precipitation</th>\n",
       "      <th>wind_speed</th>\n",
       "    </tr>\n",
       "  </thead>\n",
       "  <tbody>\n",
       "    <tr>\n",
       "      <th>0</th>\n",
       "      <td>2023-05-01</td>\n",
       "      <td>72</td>\n",
       "      <td>65</td>\n",
       "      <td>0.0</td>\n",
       "      <td>8</td>\n",
       "    </tr>\n",
       "    <tr>\n",
       "      <th>3</th>\n",
       "      <td>2023-05-04</td>\n",
       "      <td>78</td>\n",
       "      <td>60</td>\n",
       "      <td>0.0</td>\n",
       "      <td>10</td>\n",
       "    </tr>\n",
       "  </tbody>\n",
       "</table>\n",
       "</div>"
      ],
      "text/plain": [
       "         date  temperature  humidity  precipitation  wind_speed\n",
       "0  2023-05-01           72        65            0.0           8\n",
       "3  2023-05-04           78        60            0.0          10"
      ]
     },
     "execution_count": 48,
     "metadata": {},
     "output_type": "execute_result"
    }
   ],
   "source": [
    "df.iloc[[0,3]]"
   ]
  },
  {
   "cell_type": "code",
   "execution_count": 54,
   "id": "03f0fa85-0411-430b-883b-cd52e848957f",
   "metadata": {},
   "outputs": [
    {
     "data": {
      "text/html": [
       "<div>\n",
       "<style scoped>\n",
       "    .dataframe tbody tr th:only-of-type {\n",
       "        vertical-align: middle;\n",
       "    }\n",
       "\n",
       "    .dataframe tbody tr th {\n",
       "        vertical-align: top;\n",
       "    }\n",
       "\n",
       "    .dataframe thead th {\n",
       "        text-align: right;\n",
       "    }\n",
       "</style>\n",
       "<table border=\"1\" class=\"dataframe\">\n",
       "  <thead>\n",
       "    <tr style=\"text-align: right;\">\n",
       "      <th></th>\n",
       "      <th>date</th>\n",
       "      <th>temperature</th>\n",
       "      <th>humidity</th>\n",
       "      <th>precipitation</th>\n",
       "      <th>wind_speed</th>\n",
       "    </tr>\n",
       "  </thead>\n",
       "  <tbody>\n",
       "    <tr>\n",
       "      <th>3</th>\n",
       "      <td>2023-05-04</td>\n",
       "      <td>78</td>\n",
       "      <td>60</td>\n",
       "      <td>0.0</td>\n",
       "      <td>10</td>\n",
       "    </tr>\n",
       "    <tr>\n",
       "      <th>4</th>\n",
       "      <td>2023-05-05</td>\n",
       "      <td>82</td>\n",
       "      <td>55</td>\n",
       "      <td>0.0</td>\n",
       "      <td>7</td>\n",
       "    </tr>\n",
       "  </tbody>\n",
       "</table>\n",
       "</div>"
      ],
      "text/plain": [
       "         date  temperature  humidity  precipitation  wind_speed\n",
       "3  2023-05-04           78        60            0.0          10\n",
       "4  2023-05-05           82        55            0.0           7"
      ]
     },
     "execution_count": 54,
     "metadata": {},
     "output_type": "execute_result"
    }
   ],
   "source": [
    "df[df['temperature'] > 75]\n"
   ]
  },
  {
   "cell_type": "code",
   "execution_count": 55,
   "id": "87a45a79-9966-420b-b61d-b17bb25af318",
   "metadata": {},
   "outputs": [
    {
     "data": {
      "text/html": [
       "<div>\n",
       "<style scoped>\n",
       "    .dataframe tbody tr th:only-of-type {\n",
       "        vertical-align: middle;\n",
       "    }\n",
       "\n",
       "    .dataframe tbody tr th {\n",
       "        vertical-align: top;\n",
       "    }\n",
       "\n",
       "    .dataframe thead th {\n",
       "        text-align: right;\n",
       "    }\n",
       "</style>\n",
       "<table border=\"1\" class=\"dataframe\">\n",
       "  <thead>\n",
       "    <tr style=\"text-align: right;\">\n",
       "      <th></th>\n",
       "      <th>date</th>\n",
       "      <th>temperature</th>\n",
       "      <th>humidity</th>\n",
       "      <th>precipitation</th>\n",
       "      <th>wind_speed</th>\n",
       "    </tr>\n",
       "  </thead>\n",
       "  <tbody>\n",
       "    <tr>\n",
       "      <th>0</th>\n",
       "      <td>2023-05-01</td>\n",
       "      <td>72</td>\n",
       "      <td>65</td>\n",
       "      <td>0.0</td>\n",
       "      <td>8</td>\n",
       "    </tr>\n",
       "    <tr>\n",
       "      <th>1</th>\n",
       "      <td>2023-05-02</td>\n",
       "      <td>75</td>\n",
       "      <td>70</td>\n",
       "      <td>0.2</td>\n",
       "      <td>12</td>\n",
       "    </tr>\n",
       "    <tr>\n",
       "      <th>2</th>\n",
       "      <td>2023-05-03</td>\n",
       "      <td>69</td>\n",
       "      <td>75</td>\n",
       "      <td>0.5</td>\n",
       "      <td>15</td>\n",
       "    </tr>\n",
       "    <tr>\n",
       "      <th>3</th>\n",
       "      <td>2023-05-04</td>\n",
       "      <td>78</td>\n",
       "      <td>60</td>\n",
       "      <td>0.0</td>\n",
       "      <td>10</td>\n",
       "    </tr>\n",
       "  </tbody>\n",
       "</table>\n",
       "</div>"
      ],
      "text/plain": [
       "         date  temperature  humidity  precipitation  wind_speed\n",
       "0  2023-05-01           72        65            0.0           8\n",
       "1  2023-05-02           75        70            0.2          12\n",
       "2  2023-05-03           69        75            0.5          15\n",
       "3  2023-05-04           78        60            0.0          10"
      ]
     },
     "execution_count": 55,
     "metadata": {},
     "output_type": "execute_result"
    }
   ],
   "source": [
    "df[df['humidity'] > 56]"
   ]
  },
  {
   "cell_type": "code",
   "execution_count": 56,
   "id": "ae7813fe-9068-4afa-9881-6584ce13dc07",
   "metadata": {},
   "outputs": [
    {
     "data": {
      "text/html": [
       "<div>\n",
       "<style scoped>\n",
       "    .dataframe tbody tr th:only-of-type {\n",
       "        vertical-align: middle;\n",
       "    }\n",
       "\n",
       "    .dataframe tbody tr th {\n",
       "        vertical-align: top;\n",
       "    }\n",
       "\n",
       "    .dataframe thead th {\n",
       "        text-align: right;\n",
       "    }\n",
       "</style>\n",
       "<table border=\"1\" class=\"dataframe\">\n",
       "  <thead>\n",
       "    <tr style=\"text-align: right;\">\n",
       "      <th></th>\n",
       "      <th>date</th>\n",
       "      <th>temperature</th>\n",
       "      <th>humidity</th>\n",
       "      <th>precipitation</th>\n",
       "      <th>wind_speed</th>\n",
       "    </tr>\n",
       "  </thead>\n",
       "  <tbody>\n",
       "    <tr>\n",
       "      <th>3</th>\n",
       "      <td>2023-05-04</td>\n",
       "      <td>78</td>\n",
       "      <td>60</td>\n",
       "      <td>0.0</td>\n",
       "      <td>10</td>\n",
       "    </tr>\n",
       "  </tbody>\n",
       "</table>\n",
       "</div>"
      ],
      "text/plain": [
       "         date  temperature  humidity  precipitation  wind_speed\n",
       "3  2023-05-04           78        60            0.0          10"
      ]
     },
     "execution_count": 56,
     "metadata": {},
     "output_type": "execute_result"
    }
   ],
   "source": [
    "temp = df['temperature'] > 75\n",
    "humidity = df['humidity'] > 56\n",
    "df[temp & humidity]\n"
   ]
  },
  {
   "cell_type": "code",
   "execution_count": 58,
   "id": "6ddae4d6-e9c9-4538-8205-c0cef649c6d5",
   "metadata": {},
   "outputs": [
    {
     "data": {
      "text/html": [
       "<div>\n",
       "<style scoped>\n",
       "    .dataframe tbody tr th:only-of-type {\n",
       "        vertical-align: middle;\n",
       "    }\n",
       "\n",
       "    .dataframe tbody tr th {\n",
       "        vertical-align: top;\n",
       "    }\n",
       "\n",
       "    .dataframe thead th {\n",
       "        text-align: right;\n",
       "    }\n",
       "</style>\n",
       "<table border=\"1\" class=\"dataframe\">\n",
       "  <thead>\n",
       "    <tr style=\"text-align: right;\">\n",
       "      <th></th>\n",
       "      <th>date</th>\n",
       "      <th>temperature</th>\n",
       "      <th>humidity</th>\n",
       "      <th>precipitation</th>\n",
       "      <th>wind_speed</th>\n",
       "    </tr>\n",
       "  </thead>\n",
       "  <tbody>\n",
       "    <tr>\n",
       "      <th>3</th>\n",
       "      <td>2023-05-04</td>\n",
       "      <td>78</td>\n",
       "      <td>60</td>\n",
       "      <td>0.0</td>\n",
       "      <td>10</td>\n",
       "    </tr>\n",
       "  </tbody>\n",
       "</table>\n",
       "</div>"
      ],
      "text/plain": [
       "         date  temperature  humidity  precipitation  wind_speed\n",
       "3  2023-05-04           78        60            0.0          10"
      ]
     },
     "execution_count": 58,
     "metadata": {},
     "output_type": "execute_result"
    }
   ],
   "source": [
    "df[(df['temperature'] > 75) & (df['humidity'] > 56)]\n"
   ]
  },
  {
   "cell_type": "code",
   "execution_count": 62,
   "id": "3eea92ce-9da9-4cc4-af0c-af88470ca1b8",
   "metadata": {},
   "outputs": [
    {
     "data": {
      "text/html": [
       "<div>\n",
       "<style scoped>\n",
       "    .dataframe tbody tr th:only-of-type {\n",
       "        vertical-align: middle;\n",
       "    }\n",
       "\n",
       "    .dataframe tbody tr th {\n",
       "        vertical-align: top;\n",
       "    }\n",
       "\n",
       "    .dataframe thead th {\n",
       "        text-align: right;\n",
       "    }\n",
       "</style>\n",
       "<table border=\"1\" class=\"dataframe\">\n",
       "  <thead>\n",
       "    <tr style=\"text-align: right;\">\n",
       "      <th></th>\n",
       "      <th>date</th>\n",
       "      <th>temperature</th>\n",
       "      <th>humidity</th>\n",
       "      <th>precipitation</th>\n",
       "      <th>wind_speed</th>\n",
       "      <th>feels_like</th>\n",
       "    </tr>\n",
       "  </thead>\n",
       "  <tbody>\n",
       "    <tr>\n",
       "      <th>0</th>\n",
       "      <td>2023-05-01</td>\n",
       "      <td>72</td>\n",
       "      <td>65</td>\n",
       "      <td>0.0</td>\n",
       "      <td>8</td>\n",
       "      <td>65.5</td>\n",
       "    </tr>\n",
       "    <tr>\n",
       "      <th>1</th>\n",
       "      <td>2023-05-02</td>\n",
       "      <td>75</td>\n",
       "      <td>70</td>\n",
       "      <td>0.2</td>\n",
       "      <td>12</td>\n",
       "      <td>68.0</td>\n",
       "    </tr>\n",
       "    <tr>\n",
       "      <th>2</th>\n",
       "      <td>2023-05-03</td>\n",
       "      <td>69</td>\n",
       "      <td>75</td>\n",
       "      <td>0.5</td>\n",
       "      <td>15</td>\n",
       "      <td>61.5</td>\n",
       "    </tr>\n",
       "    <tr>\n",
       "      <th>3</th>\n",
       "      <td>2023-05-04</td>\n",
       "      <td>78</td>\n",
       "      <td>60</td>\n",
       "      <td>0.0</td>\n",
       "      <td>10</td>\n",
       "      <td>72.0</td>\n",
       "    </tr>\n",
       "    <tr>\n",
       "      <th>4</th>\n",
       "      <td>2023-05-05</td>\n",
       "      <td>82</td>\n",
       "      <td>55</td>\n",
       "      <td>0.0</td>\n",
       "      <td>7</td>\n",
       "      <td>76.5</td>\n",
       "    </tr>\n",
       "  </tbody>\n",
       "</table>\n",
       "</div>"
      ],
      "text/plain": [
       "         date  temperature  humidity  precipitation  wind_speed  feels_like\n",
       "0  2023-05-01           72        65            0.0           8        65.5\n",
       "1  2023-05-02           75        70            0.2          12        68.0\n",
       "2  2023-05-03           69        75            0.5          15        61.5\n",
       "3  2023-05-04           78        60            0.0          10        72.0\n",
       "4  2023-05-05           82        55            0.0           7        76.5"
      ]
     },
     "execution_count": 62,
     "metadata": {},
     "output_type": "execute_result"
    }
   ],
   "source": [
    "df['feels_like'] = df['temperature'] - .1 * df['humidity']\n",
    "df"
   ]
  },
  {
   "cell_type": "code",
   "execution_count": 63,
   "id": "2524d635-8a0a-4be4-9eee-8c83b9582133",
   "metadata": {},
   "outputs": [
    {
     "data": {
      "text/html": [
       "<div>\n",
       "<style scoped>\n",
       "    .dataframe tbody tr th:only-of-type {\n",
       "        vertical-align: middle;\n",
       "    }\n",
       "\n",
       "    .dataframe tbody tr th {\n",
       "        vertical-align: top;\n",
       "    }\n",
       "\n",
       "    .dataframe thead th {\n",
       "        text-align: right;\n",
       "    }\n",
       "</style>\n",
       "<table border=\"1\" class=\"dataframe\">\n",
       "  <thead>\n",
       "    <tr style=\"text-align: right;\">\n",
       "      <th></th>\n",
       "      <th>date</th>\n",
       "      <th>temperature</th>\n",
       "      <th>humidity</th>\n",
       "      <th>precipitation</th>\n",
       "      <th>wind_speed</th>\n",
       "      <th>feels_like</th>\n",
       "    </tr>\n",
       "  </thead>\n",
       "  <tbody>\n",
       "    <tr>\n",
       "      <th>0</th>\n",
       "      <td>2023-05-01</td>\n",
       "      <td>73</td>\n",
       "      <td>65</td>\n",
       "      <td>0.0</td>\n",
       "      <td>8</td>\n",
       "      <td>65.5</td>\n",
       "    </tr>\n",
       "    <tr>\n",
       "      <th>1</th>\n",
       "      <td>2023-05-02</td>\n",
       "      <td>76</td>\n",
       "      <td>70</td>\n",
       "      <td>0.2</td>\n",
       "      <td>12</td>\n",
       "      <td>68.0</td>\n",
       "    </tr>\n",
       "    <tr>\n",
       "      <th>2</th>\n",
       "      <td>2023-05-03</td>\n",
       "      <td>70</td>\n",
       "      <td>75</td>\n",
       "      <td>0.5</td>\n",
       "      <td>15</td>\n",
       "      <td>61.5</td>\n",
       "    </tr>\n",
       "    <tr>\n",
       "      <th>3</th>\n",
       "      <td>2023-05-04</td>\n",
       "      <td>79</td>\n",
       "      <td>60</td>\n",
       "      <td>0.0</td>\n",
       "      <td>10</td>\n",
       "      <td>72.0</td>\n",
       "    </tr>\n",
       "    <tr>\n",
       "      <th>4</th>\n",
       "      <td>2023-05-05</td>\n",
       "      <td>83</td>\n",
       "      <td>55</td>\n",
       "      <td>0.0</td>\n",
       "      <td>7</td>\n",
       "      <td>76.5</td>\n",
       "    </tr>\n",
       "  </tbody>\n",
       "</table>\n",
       "</div>"
      ],
      "text/plain": [
       "         date  temperature  humidity  precipitation  wind_speed  feels_like\n",
       "0  2023-05-01           73        65            0.0           8        65.5\n",
       "1  2023-05-02           76        70            0.2          12        68.0\n",
       "2  2023-05-03           70        75            0.5          15        61.5\n",
       "3  2023-05-04           79        60            0.0          10        72.0\n",
       "4  2023-05-05           83        55            0.0           7        76.5"
      ]
     },
     "execution_count": 63,
     "metadata": {},
     "output_type": "execute_result"
    }
   ],
   "source": [
    "df['temperature'] = df['temperature'] + 1\n",
    "df"
   ]
  },
  {
   "cell_type": "code",
   "execution_count": 64,
   "id": "02b27fef-51a7-4a55-a2d4-c1d7f65376ce",
   "metadata": {},
   "outputs": [
    {
     "data": {
      "text/html": [
       "<div>\n",
       "<style scoped>\n",
       "    .dataframe tbody tr th:only-of-type {\n",
       "        vertical-align: middle;\n",
       "    }\n",
       "\n",
       "    .dataframe tbody tr th {\n",
       "        vertical-align: top;\n",
       "    }\n",
       "\n",
       "    .dataframe thead th {\n",
       "        text-align: right;\n",
       "    }\n",
       "</style>\n",
       "<table border=\"1\" class=\"dataframe\">\n",
       "  <thead>\n",
       "    <tr style=\"text-align: right;\">\n",
       "      <th></th>\n",
       "      <th>date</th>\n",
       "      <th>temperature</th>\n",
       "      <th>humidity</th>\n",
       "      <th>precipitation</th>\n",
       "      <th>wind_speed</th>\n",
       "      <th>feels_like</th>\n",
       "    </tr>\n",
       "  </thead>\n",
       "  <tbody>\n",
       "    <tr>\n",
       "      <th>0</th>\n",
       "      <td>2023-05-01</td>\n",
       "      <td>73</td>\n",
       "      <td>65</td>\n",
       "      <td>0.0</td>\n",
       "      <td>8</td>\n",
       "      <td>66.5</td>\n",
       "    </tr>\n",
       "    <tr>\n",
       "      <th>1</th>\n",
       "      <td>2023-05-02</td>\n",
       "      <td>76</td>\n",
       "      <td>70</td>\n",
       "      <td>0.2</td>\n",
       "      <td>12</td>\n",
       "      <td>69.0</td>\n",
       "    </tr>\n",
       "    <tr>\n",
       "      <th>2</th>\n",
       "      <td>2023-05-03</td>\n",
       "      <td>70</td>\n",
       "      <td>75</td>\n",
       "      <td>0.5</td>\n",
       "      <td>15</td>\n",
       "      <td>62.5</td>\n",
       "    </tr>\n",
       "    <tr>\n",
       "      <th>3</th>\n",
       "      <td>2023-05-04</td>\n",
       "      <td>79</td>\n",
       "      <td>60</td>\n",
       "      <td>0.0</td>\n",
       "      <td>10</td>\n",
       "      <td>73.0</td>\n",
       "    </tr>\n",
       "    <tr>\n",
       "      <th>4</th>\n",
       "      <td>2023-05-05</td>\n",
       "      <td>83</td>\n",
       "      <td>55</td>\n",
       "      <td>0.0</td>\n",
       "      <td>7</td>\n",
       "      <td>77.5</td>\n",
       "    </tr>\n",
       "  </tbody>\n",
       "</table>\n",
       "</div>"
      ],
      "text/plain": [
       "         date  temperature  humidity  precipitation  wind_speed  feels_like\n",
       "0  2023-05-01           73        65            0.0           8        66.5\n",
       "1  2023-05-02           76        70            0.2          12        69.0\n",
       "2  2023-05-03           70        75            0.5          15        62.5\n",
       "3  2023-05-04           79        60            0.0          10        73.0\n",
       "4  2023-05-05           83        55            0.0           7        77.5"
      ]
     },
     "execution_count": 64,
     "metadata": {},
     "output_type": "execute_result"
    }
   ],
   "source": [
    "df['feels_like'] = df['temperature'] - 0.1 * df['humidity']\n",
    "df"
   ]
  },
  {
   "cell_type": "code",
   "execution_count": 65,
   "id": "76e21fa4-4dae-41b5-ac73-77e0a22ce335",
   "metadata": {},
   "outputs": [
    {
     "data": {
      "text/plain": [
       "date             2023-05-05\n",
       "temperature              83\n",
       "humidity                 75\n",
       "precipitation           0.5\n",
       "wind_speed               15\n",
       "feels_like             77.5\n",
       "dtype: object"
      ]
     },
     "execution_count": 65,
     "metadata": {},
     "output_type": "execute_result"
    }
   ],
   "source": [
    "df.max()"
   ]
  },
  {
   "cell_type": "code",
   "execution_count": 66,
   "id": "6f81078b-b4df-479b-9372-8e949d832577",
   "metadata": {},
   "outputs": [
    {
     "data": {
      "text/plain": [
       "date             2023-05-01\n",
       "temperature              70\n",
       "humidity                 55\n",
       "precipitation           0.0\n",
       "wind_speed                7\n",
       "feels_like             62.5\n",
       "dtype: object"
      ]
     },
     "execution_count": 66,
     "metadata": {},
     "output_type": "execute_result"
    }
   ],
   "source": [
    "df.min()"
   ]
  },
  {
   "cell_type": "code",
   "execution_count": 69,
   "id": "e9e8a249-8d77-48bf-a021-8514f3723876",
   "metadata": {},
   "outputs": [
    {
     "data": {
      "text/plain": [
       "np.int64(13)"
      ]
     },
     "execution_count": 69,
     "metadata": {},
     "output_type": "execute_result"
    }
   ],
   "source": [
    "df['temperature'].max() - df['temperature'].min()"
   ]
  },
  {
   "cell_type": "code",
   "execution_count": null,
   "id": "cd0b3c3a-539d-461f-8562-c56aba7e0688",
   "metadata": {},
   "outputs": [],
   "source": []
  }
 ],
 "metadata": {
  "kernelspec": {
   "display_name": "Python 3 (ipykernel)",
   "language": "python",
   "name": "python3"
  },
  "language_info": {
   "codemirror_mode": {
    "name": "ipython",
    "version": 3
   },
   "file_extension": ".py",
   "mimetype": "text/x-python",
   "name": "python",
   "nbconvert_exporter": "python",
   "pygments_lexer": "ipython3",
   "version": "3.13.0"
  }
 },
 "nbformat": 4,
 "nbformat_minor": 5
}
