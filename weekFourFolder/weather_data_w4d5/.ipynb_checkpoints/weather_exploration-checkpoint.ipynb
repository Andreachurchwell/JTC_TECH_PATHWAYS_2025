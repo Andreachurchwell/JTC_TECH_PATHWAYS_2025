{
 "cells": [
  {
   "cell_type": "code",
   "execution_count": 106,
   "id": "3ef3490b-0c71-4f51-9acf-626faefcddeb",
   "metadata": {},
   "outputs": [],
   "source": [
    "import pandas as pd"
   ]
  },
  {
   "cell_type": "code",
   "execution_count": 107,
   "id": "ec8562d2-288a-45b0-9fe2-8cf26216423b",
   "metadata": {},
   "outputs": [
    {
     "data": {
      "text/plain": [
       "(89610, 29)"
      ]
     },
     "execution_count": 107,
     "metadata": {},
     "output_type": "execute_result"
    }
   ],
   "source": [
    "dfx = pd.read_csv(\"6-15-2017_12-31-2019.csv\")\n",
    "\n",
    "dfx.shape"
   ]
  },
  {
   "cell_type": "code",
   "execution_count": 108,
   "id": "e073df9d-a115-4b91-9b1c-168b07ce607a",
   "metadata": {},
   "outputs": [
    {
     "data": {
      "text/plain": [
       "Index(['STATION', 'NAME', 'DATE', 'AWND', 'DAPR', 'DASF', 'MDPR', 'MDSF',\n",
       "       'PGTM', 'PRCP', 'SNOW', 'SNWD', 'TAVG', 'TMAX', 'TMIN', 'TOBS', 'WDF2',\n",
       "       'WDF5', 'WSF2', 'WSF5', 'WT01', 'WT02', 'WT03', 'WT04', 'WT05', 'WT06',\n",
       "       'WT08', 'WT09', 'WT11'],\n",
       "      dtype='object')"
      ]
     },
     "execution_count": 108,
     "metadata": {},
     "output_type": "execute_result"
    }
   ],
   "source": [
    "dfx.columns"
   ]
  },
  {
   "cell_type": "code",
   "execution_count": 109,
   "id": "cb1ef35e-7c79-4972-99b0-2d3135c5aacf",
   "metadata": {},
   "outputs": [
    {
     "name": "stdout",
     "output_type": "stream",
     "text": [
      "<class 'pandas.core.frame.DataFrame'>\n",
      "RangeIndex: 89610 entries, 0 to 89609\n",
      "Data columns (total 29 columns):\n",
      " #   Column   Non-Null Count  Dtype  \n",
      "---  ------   --------------  -----  \n",
      " 0   STATION  89610 non-null  object \n",
      " 1   NAME     89610 non-null  object \n",
      " 2   DATE     89610 non-null  object \n",
      " 3   AWND     8592 non-null   float64\n",
      " 4   DAPR     1278 non-null   float64\n",
      " 5   DASF     2 non-null      float64\n",
      " 6   MDPR     1272 non-null   float64\n",
      " 7   MDSF     2 non-null      float64\n",
      " 8   PGTM     4378 non-null   float64\n",
      " 9   PRCP     87989 non-null  float64\n",
      " 10  SNOW     43874 non-null  float64\n",
      " 11  SNWD     19804 non-null  float64\n",
      " 12  TAVG     3285 non-null   float64\n",
      " 13  TMAX     14724 non-null  float64\n",
      " 14  TMIN     14739 non-null  float64\n",
      " 15  TOBS     5692 non-null   float64\n",
      " 16  WDF2     8601 non-null   float64\n",
      " 17  WDF5     8585 non-null   float64\n",
      " 18  WSF2     8601 non-null   float64\n",
      " 19  WSF5     8585 non-null   float64\n",
      " 20  WT01     2641 non-null   float64\n",
      " 21  WT02     223 non-null    float64\n",
      " 22  WT03     519 non-null    float64\n",
      " 23  WT04     130 non-null    float64\n",
      " 24  WT05     8 non-null      float64\n",
      " 25  WT06     60 non-null     float64\n",
      " 26  WT08     526 non-null    float64\n",
      " 27  WT09     17 non-null     float64\n",
      " 28  WT11     25 non-null     float64\n",
      "dtypes: float64(26), object(3)\n",
      "memory usage: 19.8+ MB\n"
     ]
    }
   ],
   "source": [
    "dfx.info()"
   ]
  },
  {
   "cell_type": "code",
   "execution_count": 110,
   "id": "513408fa-eff4-4a5c-a8a5-72838e5fadce",
   "metadata": {},
   "outputs": [
    {
     "data": {
      "text/html": [
       "<div>\n",
       "<style scoped>\n",
       "    .dataframe tbody tr th:only-of-type {\n",
       "        vertical-align: middle;\n",
       "    }\n",
       "\n",
       "    .dataframe tbody tr th {\n",
       "        vertical-align: top;\n",
       "    }\n",
       "\n",
       "    .dataframe thead th {\n",
       "        text-align: right;\n",
       "    }\n",
       "</style>\n",
       "<table border=\"1\" class=\"dataframe\">\n",
       "  <thead>\n",
       "    <tr style=\"text-align: right;\">\n",
       "      <th></th>\n",
       "      <th>STATION</th>\n",
       "      <th>NAME</th>\n",
       "      <th>DATE</th>\n",
       "      <th>AWND</th>\n",
       "      <th>DAPR</th>\n",
       "      <th>DASF</th>\n",
       "      <th>MDPR</th>\n",
       "      <th>MDSF</th>\n",
       "      <th>PGTM</th>\n",
       "      <th>PRCP</th>\n",
       "      <th>...</th>\n",
       "      <th>WSF5</th>\n",
       "      <th>WT01</th>\n",
       "      <th>WT02</th>\n",
       "      <th>WT03</th>\n",
       "      <th>WT04</th>\n",
       "      <th>WT05</th>\n",
       "      <th>WT06</th>\n",
       "      <th>WT08</th>\n",
       "      <th>WT09</th>\n",
       "      <th>WT11</th>\n",
       "    </tr>\n",
       "  </thead>\n",
       "  <tbody>\n",
       "    <tr>\n",
       "      <th>89605</th>\n",
       "      <td>US1NJPS0022</td>\n",
       "      <td>RINGWOOD 3.0 SSE, NJ US</td>\n",
       "      <td>2019-12-23</td>\n",
       "      <td>NaN</td>\n",
       "      <td>NaN</td>\n",
       "      <td>NaN</td>\n",
       "      <td>NaN</td>\n",
       "      <td>NaN</td>\n",
       "      <td>NaN</td>\n",
       "      <td>0.0</td>\n",
       "      <td>...</td>\n",
       "      <td>NaN</td>\n",
       "      <td>NaN</td>\n",
       "      <td>NaN</td>\n",
       "      <td>NaN</td>\n",
       "      <td>NaN</td>\n",
       "      <td>NaN</td>\n",
       "      <td>NaN</td>\n",
       "      <td>NaN</td>\n",
       "      <td>NaN</td>\n",
       "      <td>NaN</td>\n",
       "    </tr>\n",
       "    <tr>\n",
       "      <th>89606</th>\n",
       "      <td>US1NJPS0022</td>\n",
       "      <td>RINGWOOD 3.0 SSE, NJ US</td>\n",
       "      <td>2019-12-24</td>\n",
       "      <td>NaN</td>\n",
       "      <td>NaN</td>\n",
       "      <td>NaN</td>\n",
       "      <td>NaN</td>\n",
       "      <td>NaN</td>\n",
       "      <td>NaN</td>\n",
       "      <td>0.0</td>\n",
       "      <td>...</td>\n",
       "      <td>NaN</td>\n",
       "      <td>NaN</td>\n",
       "      <td>NaN</td>\n",
       "      <td>NaN</td>\n",
       "      <td>NaN</td>\n",
       "      <td>NaN</td>\n",
       "      <td>NaN</td>\n",
       "      <td>NaN</td>\n",
       "      <td>NaN</td>\n",
       "      <td>NaN</td>\n",
       "    </tr>\n",
       "    <tr>\n",
       "      <th>89607</th>\n",
       "      <td>US1NJPS0022</td>\n",
       "      <td>RINGWOOD 3.0 SSE, NJ US</td>\n",
       "      <td>2019-12-25</td>\n",
       "      <td>NaN</td>\n",
       "      <td>NaN</td>\n",
       "      <td>NaN</td>\n",
       "      <td>NaN</td>\n",
       "      <td>NaN</td>\n",
       "      <td>NaN</td>\n",
       "      <td>0.0</td>\n",
       "      <td>...</td>\n",
       "      <td>NaN</td>\n",
       "      <td>NaN</td>\n",
       "      <td>NaN</td>\n",
       "      <td>NaN</td>\n",
       "      <td>NaN</td>\n",
       "      <td>NaN</td>\n",
       "      <td>NaN</td>\n",
       "      <td>NaN</td>\n",
       "      <td>NaN</td>\n",
       "      <td>NaN</td>\n",
       "    </tr>\n",
       "    <tr>\n",
       "      <th>89608</th>\n",
       "      <td>US1NJPS0022</td>\n",
       "      <td>RINGWOOD 3.0 SSE, NJ US</td>\n",
       "      <td>2019-12-26</td>\n",
       "      <td>NaN</td>\n",
       "      <td>NaN</td>\n",
       "      <td>NaN</td>\n",
       "      <td>NaN</td>\n",
       "      <td>NaN</td>\n",
       "      <td>NaN</td>\n",
       "      <td>0.0</td>\n",
       "      <td>...</td>\n",
       "      <td>NaN</td>\n",
       "      <td>NaN</td>\n",
       "      <td>NaN</td>\n",
       "      <td>NaN</td>\n",
       "      <td>NaN</td>\n",
       "      <td>NaN</td>\n",
       "      <td>NaN</td>\n",
       "      <td>NaN</td>\n",
       "      <td>NaN</td>\n",
       "      <td>NaN</td>\n",
       "    </tr>\n",
       "    <tr>\n",
       "      <th>89609</th>\n",
       "      <td>US1NJPS0022</td>\n",
       "      <td>RINGWOOD 3.0 SSE, NJ US</td>\n",
       "      <td>2019-12-31</td>\n",
       "      <td>NaN</td>\n",
       "      <td>5.0</td>\n",
       "      <td>NaN</td>\n",
       "      <td>1.51</td>\n",
       "      <td>NaN</td>\n",
       "      <td>NaN</td>\n",
       "      <td>NaN</td>\n",
       "      <td>...</td>\n",
       "      <td>NaN</td>\n",
       "      <td>NaN</td>\n",
       "      <td>NaN</td>\n",
       "      <td>NaN</td>\n",
       "      <td>NaN</td>\n",
       "      <td>NaN</td>\n",
       "      <td>NaN</td>\n",
       "      <td>NaN</td>\n",
       "      <td>NaN</td>\n",
       "      <td>NaN</td>\n",
       "    </tr>\n",
       "  </tbody>\n",
       "</table>\n",
       "<p>5 rows × 29 columns</p>\n",
       "</div>"
      ],
      "text/plain": [
       "           STATION                     NAME        DATE  AWND  DAPR  DASF  \\\n",
       "89605  US1NJPS0022  RINGWOOD 3.0 SSE, NJ US  2019-12-23   NaN   NaN   NaN   \n",
       "89606  US1NJPS0022  RINGWOOD 3.0 SSE, NJ US  2019-12-24   NaN   NaN   NaN   \n",
       "89607  US1NJPS0022  RINGWOOD 3.0 SSE, NJ US  2019-12-25   NaN   NaN   NaN   \n",
       "89608  US1NJPS0022  RINGWOOD 3.0 SSE, NJ US  2019-12-26   NaN   NaN   NaN   \n",
       "89609  US1NJPS0022  RINGWOOD 3.0 SSE, NJ US  2019-12-31   NaN   5.0   NaN   \n",
       "\n",
       "       MDPR  MDSF  PGTM  PRCP  ...  WSF5  WT01  WT02  WT03  WT04  WT05  WT06  \\\n",
       "89605   NaN   NaN   NaN   0.0  ...   NaN   NaN   NaN   NaN   NaN   NaN   NaN   \n",
       "89606   NaN   NaN   NaN   0.0  ...   NaN   NaN   NaN   NaN   NaN   NaN   NaN   \n",
       "89607   NaN   NaN   NaN   0.0  ...   NaN   NaN   NaN   NaN   NaN   NaN   NaN   \n",
       "89608   NaN   NaN   NaN   0.0  ...   NaN   NaN   NaN   NaN   NaN   NaN   NaN   \n",
       "89609  1.51   NaN   NaN   NaN  ...   NaN   NaN   NaN   NaN   NaN   NaN   NaN   \n",
       "\n",
       "       WT08  WT09  WT11  \n",
       "89605   NaN   NaN   NaN  \n",
       "89606   NaN   NaN   NaN  \n",
       "89607   NaN   NaN   NaN  \n",
       "89608   NaN   NaN   NaN  \n",
       "89609   NaN   NaN   NaN  \n",
       "\n",
       "[5 rows x 29 columns]"
      ]
     },
     "execution_count": 110,
     "metadata": {},
     "output_type": "execute_result"
    }
   ],
   "source": [
    "dfx.tail()"
   ]
  },
  {
   "cell_type": "code",
   "execution_count": 111,
   "id": "50966107-d3f9-4fc9-82fe-66b50b299d6c",
   "metadata": {},
   "outputs": [],
   "source": [
    "station_counts = dfx['STATION'].value_counts()"
   ]
  },
  {
   "cell_type": "code",
   "execution_count": 112,
   "id": "ab148e65-7b89-4198-9093-7491bca623cb",
   "metadata": {},
   "outputs": [
    {
     "data": {
      "text/plain": [
       "STATION\n",
       "USW00054787    1095\n",
       "USW00094728    1095\n",
       "USC00283704    1095\n",
       "US1NJPS0014    1095\n",
       "USW00094789    1095\n",
       "USC00281335    1095\n",
       "US1NJMD0043    1095\n",
       "US1NJPS0012    1095\n",
       "USC00301309    1095\n",
       "USW00014732    1095\n",
       "US1NJMD0062    1095\n",
       "USW00014734    1095\n",
       "Name: count, dtype: int64"
      ]
     },
     "execution_count": 112,
     "metadata": {},
     "output_type": "execute_result"
    }
   ],
   "source": [
    "station_counts[station_counts == 1095]"
   ]
  },
  {
   "cell_type": "code",
   "execution_count": 113,
   "id": "d6985b5f-d280-4618-bc39-850f4ecc6a8f",
   "metadata": {},
   "outputs": [],
   "source": [
    "# df.query('STATION == USW00054787', inplace=False) = GO BACK TO LATER"
   ]
  },
  {
   "cell_type": "code",
   "execution_count": 114,
   "id": "f84dbe24-c67a-4735-9456-68d458a1c5cf",
   "metadata": {},
   "outputs": [],
   "source": [
    "dfx['DATE'] = pd.to_datetime(dfx['DATE'])"
   ]
  },
  {
   "cell_type": "code",
   "execution_count": 115,
   "id": "3c74f697-4def-4143-86d6-4bbdba0388d0",
   "metadata": {},
   "outputs": [
    {
     "name": "stdout",
     "output_type": "stream",
     "text": [
      "<class 'pandas.core.frame.DataFrame'>\n",
      "RangeIndex: 89610 entries, 0 to 89609\n",
      "Data columns (total 29 columns):\n",
      " #   Column   Non-Null Count  Dtype         \n",
      "---  ------   --------------  -----         \n",
      " 0   STATION  89610 non-null  object        \n",
      " 1   NAME     89610 non-null  object        \n",
      " 2   DATE     89610 non-null  datetime64[ns]\n",
      " 3   AWND     8592 non-null   float64       \n",
      " 4   DAPR     1278 non-null   float64       \n",
      " 5   DASF     2 non-null      float64       \n",
      " 6   MDPR     1272 non-null   float64       \n",
      " 7   MDSF     2 non-null      float64       \n",
      " 8   PGTM     4378 non-null   float64       \n",
      " 9   PRCP     87989 non-null  float64       \n",
      " 10  SNOW     43874 non-null  float64       \n",
      " 11  SNWD     19804 non-null  float64       \n",
      " 12  TAVG     3285 non-null   float64       \n",
      " 13  TMAX     14724 non-null  float64       \n",
      " 14  TMIN     14739 non-null  float64       \n",
      " 15  TOBS     5692 non-null   float64       \n",
      " 16  WDF2     8601 non-null   float64       \n",
      " 17  WDF5     8585 non-null   float64       \n",
      " 18  WSF2     8601 non-null   float64       \n",
      " 19  WSF5     8585 non-null   float64       \n",
      " 20  WT01     2641 non-null   float64       \n",
      " 21  WT02     223 non-null    float64       \n",
      " 22  WT03     519 non-null    float64       \n",
      " 23  WT04     130 non-null    float64       \n",
      " 24  WT05     8 non-null      float64       \n",
      " 25  WT06     60 non-null     float64       \n",
      " 26  WT08     526 non-null    float64       \n",
      " 27  WT09     17 non-null     float64       \n",
      " 28  WT11     25 non-null     float64       \n",
      "dtypes: datetime64[ns](1), float64(26), object(2)\n",
      "memory usage: 19.8+ MB\n"
     ]
    }
   ],
   "source": [
    "dfx.info()"
   ]
  },
  {
   "cell_type": "code",
   "execution_count": 116,
   "id": "b283d312-fe1e-47f4-b95a-76e62e52f6a7",
   "metadata": {},
   "outputs": [
    {
     "name": "stdout",
     "output_type": "stream",
     "text": [
      "<class 'pandas.core.frame.DataFrame'>\n",
      "Index: 1095 entries, 42271 to 43365\n",
      "Data columns (total 29 columns):\n",
      " #   Column   Non-Null Count  Dtype         \n",
      "---  ------   --------------  -----         \n",
      " 0   STATION  1095 non-null   object        \n",
      " 1   NAME     1095 non-null   object        \n",
      " 2   DATE     1095 non-null   datetime64[ns]\n",
      " 3   AWND     942 non-null    float64       \n",
      " 4   DAPR     0 non-null      float64       \n",
      " 5   DASF     0 non-null      float64       \n",
      " 6   MDPR     0 non-null      float64       \n",
      " 7   MDSF     0 non-null      float64       \n",
      " 8   PGTM     1 non-null      float64       \n",
      " 9   PRCP     1095 non-null   float64       \n",
      " 10  SNOW     1095 non-null   float64       \n",
      " 11  SNWD     1095 non-null   float64       \n",
      " 12  TAVG     0 non-null      float64       \n",
      " 13  TMAX     1095 non-null   float64       \n",
      " 14  TMIN     1095 non-null   float64       \n",
      " 15  TOBS     0 non-null      float64       \n",
      " 16  WDF2     942 non-null    float64       \n",
      " 17  WDF5     939 non-null    float64       \n",
      " 18  WSF2     942 non-null    float64       \n",
      " 19  WSF5     939 non-null    float64       \n",
      " 20  WT01     478 non-null    float64       \n",
      " 21  WT02     32 non-null     float64       \n",
      " 22  WT03     55 non-null     float64       \n",
      " 23  WT04     1 non-null      float64       \n",
      " 24  WT05     0 non-null      float64       \n",
      " 25  WT06     8 non-null      float64       \n",
      " 26  WT08     184 non-null    float64       \n",
      " 27  WT09     0 non-null      float64       \n",
      " 28  WT11     0 non-null      float64       \n",
      "dtypes: datetime64[ns](1), float64(26), object(2)\n",
      "memory usage: 256.6+ KB\n"
     ]
    }
   ],
   "source": [
    "df1 = dfx[dfx['STATION'] == 'USW00094728'].copy()\n",
    "df1.info()"
   ]
  },
  {
   "cell_type": "code",
   "execution_count": 117,
   "id": "f999ab2d-a3fb-4cd8-9e3d-7f5bb87bc6d8",
   "metadata": {},
   "outputs": [
    {
     "data": {
      "text/html": [
       "<div>\n",
       "<style scoped>\n",
       "    .dataframe tbody tr th:only-of-type {\n",
       "        vertical-align: middle;\n",
       "    }\n",
       "\n",
       "    .dataframe tbody tr th {\n",
       "        vertical-align: top;\n",
       "    }\n",
       "\n",
       "    .dataframe thead th {\n",
       "        text-align: right;\n",
       "    }\n",
       "</style>\n",
       "<table border=\"1\" class=\"dataframe\">\n",
       "  <thead>\n",
       "    <tr style=\"text-align: right;\">\n",
       "      <th></th>\n",
       "      <th>STATION</th>\n",
       "      <th>NAME</th>\n",
       "      <th>DATE</th>\n",
       "      <th>AWND</th>\n",
       "      <th>DAPR</th>\n",
       "      <th>DASF</th>\n",
       "      <th>MDPR</th>\n",
       "      <th>MDSF</th>\n",
       "      <th>PGTM</th>\n",
       "      <th>PRCP</th>\n",
       "      <th>...</th>\n",
       "      <th>WSF5</th>\n",
       "      <th>WT01</th>\n",
       "      <th>WT02</th>\n",
       "      <th>WT03</th>\n",
       "      <th>WT04</th>\n",
       "      <th>WT05</th>\n",
       "      <th>WT06</th>\n",
       "      <th>WT08</th>\n",
       "      <th>WT09</th>\n",
       "      <th>WT11</th>\n",
       "    </tr>\n",
       "  </thead>\n",
       "  <tbody>\n",
       "    <tr>\n",
       "      <th>42271</th>\n",
       "      <td>USW00094728</td>\n",
       "      <td>NY CITY CENTRAL PARK, NY US</td>\n",
       "      <td>2017-01-01</td>\n",
       "      <td>5.59</td>\n",
       "      <td>NaN</td>\n",
       "      <td>NaN</td>\n",
       "      <td>NaN</td>\n",
       "      <td>NaN</td>\n",
       "      <td>NaN</td>\n",
       "      <td>0.00</td>\n",
       "      <td>...</td>\n",
       "      <td>23.0</td>\n",
       "      <td>NaN</td>\n",
       "      <td>NaN</td>\n",
       "      <td>NaN</td>\n",
       "      <td>NaN</td>\n",
       "      <td>NaN</td>\n",
       "      <td>NaN</td>\n",
       "      <td>1.0</td>\n",
       "      <td>NaN</td>\n",
       "      <td>NaN</td>\n",
       "    </tr>\n",
       "    <tr>\n",
       "      <th>42272</th>\n",
       "      <td>USW00094728</td>\n",
       "      <td>NY CITY CENTRAL PARK, NY US</td>\n",
       "      <td>2017-01-02</td>\n",
       "      <td>9.17</td>\n",
       "      <td>NaN</td>\n",
       "      <td>NaN</td>\n",
       "      <td>NaN</td>\n",
       "      <td>NaN</td>\n",
       "      <td>NaN</td>\n",
       "      <td>0.21</td>\n",
       "      <td>...</td>\n",
       "      <td>25.1</td>\n",
       "      <td>1.0</td>\n",
       "      <td>NaN</td>\n",
       "      <td>NaN</td>\n",
       "      <td>1.0</td>\n",
       "      <td>NaN</td>\n",
       "      <td>NaN</td>\n",
       "      <td>NaN</td>\n",
       "      <td>NaN</td>\n",
       "      <td>NaN</td>\n",
       "    </tr>\n",
       "    <tr>\n",
       "      <th>42273</th>\n",
       "      <td>USW00094728</td>\n",
       "      <td>NY CITY CENTRAL PARK, NY US</td>\n",
       "      <td>2017-01-03</td>\n",
       "      <td>10.74</td>\n",
       "      <td>NaN</td>\n",
       "      <td>NaN</td>\n",
       "      <td>NaN</td>\n",
       "      <td>NaN</td>\n",
       "      <td>NaN</td>\n",
       "      <td>0.58</td>\n",
       "      <td>...</td>\n",
       "      <td>30.0</td>\n",
       "      <td>1.0</td>\n",
       "      <td>NaN</td>\n",
       "      <td>NaN</td>\n",
       "      <td>NaN</td>\n",
       "      <td>NaN</td>\n",
       "      <td>NaN</td>\n",
       "      <td>NaN</td>\n",
       "      <td>NaN</td>\n",
       "      <td>NaN</td>\n",
       "    </tr>\n",
       "    <tr>\n",
       "      <th>42274</th>\n",
       "      <td>USW00094728</td>\n",
       "      <td>NY CITY CENTRAL PARK, NY US</td>\n",
       "      <td>2017-01-04</td>\n",
       "      <td>8.05</td>\n",
       "      <td>NaN</td>\n",
       "      <td>NaN</td>\n",
       "      <td>NaN</td>\n",
       "      <td>NaN</td>\n",
       "      <td>NaN</td>\n",
       "      <td>0.00</td>\n",
       "      <td>...</td>\n",
       "      <td>36.0</td>\n",
       "      <td>1.0</td>\n",
       "      <td>NaN</td>\n",
       "      <td>NaN</td>\n",
       "      <td>NaN</td>\n",
       "      <td>NaN</td>\n",
       "      <td>NaN</td>\n",
       "      <td>1.0</td>\n",
       "      <td>NaN</td>\n",
       "      <td>NaN</td>\n",
       "    </tr>\n",
       "    <tr>\n",
       "      <th>42275</th>\n",
       "      <td>USW00094728</td>\n",
       "      <td>NY CITY CENTRAL PARK, NY US</td>\n",
       "      <td>2017-01-05</td>\n",
       "      <td>7.83</td>\n",
       "      <td>NaN</td>\n",
       "      <td>NaN</td>\n",
       "      <td>NaN</td>\n",
       "      <td>NaN</td>\n",
       "      <td>NaN</td>\n",
       "      <td>0.00</td>\n",
       "      <td>...</td>\n",
       "      <td>27.1</td>\n",
       "      <td>NaN</td>\n",
       "      <td>NaN</td>\n",
       "      <td>NaN</td>\n",
       "      <td>NaN</td>\n",
       "      <td>NaN</td>\n",
       "      <td>NaN</td>\n",
       "      <td>NaN</td>\n",
       "      <td>NaN</td>\n",
       "      <td>NaN</td>\n",
       "    </tr>\n",
       "  </tbody>\n",
       "</table>\n",
       "<p>5 rows × 29 columns</p>\n",
       "</div>"
      ],
      "text/plain": [
       "           STATION                         NAME       DATE   AWND  DAPR  DASF  \\\n",
       "42271  USW00094728  NY CITY CENTRAL PARK, NY US 2017-01-01   5.59   NaN   NaN   \n",
       "42272  USW00094728  NY CITY CENTRAL PARK, NY US 2017-01-02   9.17   NaN   NaN   \n",
       "42273  USW00094728  NY CITY CENTRAL PARK, NY US 2017-01-03  10.74   NaN   NaN   \n",
       "42274  USW00094728  NY CITY CENTRAL PARK, NY US 2017-01-04   8.05   NaN   NaN   \n",
       "42275  USW00094728  NY CITY CENTRAL PARK, NY US 2017-01-05   7.83   NaN   NaN   \n",
       "\n",
       "       MDPR  MDSF  PGTM  PRCP  ...  WSF5  WT01  WT02  WT03  WT04  WT05  WT06  \\\n",
       "42271   NaN   NaN   NaN  0.00  ...  23.0   NaN   NaN   NaN   NaN   NaN   NaN   \n",
       "42272   NaN   NaN   NaN  0.21  ...  25.1   1.0   NaN   NaN   1.0   NaN   NaN   \n",
       "42273   NaN   NaN   NaN  0.58  ...  30.0   1.0   NaN   NaN   NaN   NaN   NaN   \n",
       "42274   NaN   NaN   NaN  0.00  ...  36.0   1.0   NaN   NaN   NaN   NaN   NaN   \n",
       "42275   NaN   NaN   NaN  0.00  ...  27.1   NaN   NaN   NaN   NaN   NaN   NaN   \n",
       "\n",
       "       WT08  WT09  WT11  \n",
       "42271   1.0   NaN   NaN  \n",
       "42272   NaN   NaN   NaN  \n",
       "42273   NaN   NaN   NaN  \n",
       "42274   1.0   NaN   NaN  \n",
       "42275   NaN   NaN   NaN  \n",
       "\n",
       "[5 rows x 29 columns]"
      ]
     },
     "execution_count": 117,
     "metadata": {},
     "output_type": "execute_result"
    }
   ],
   "source": [
    "df1.sort_values('DATE', ascending=True)\n",
    "df1.head()"
   ]
  },
  {
   "cell_type": "code",
   "execution_count": 118,
   "id": "2431296c-caff-432e-99bf-13c0ab4f08d0",
   "metadata": {},
   "outputs": [
    {
     "name": "stdout",
     "output_type": "stream",
     "text": [
      "<class 'pandas.core.frame.DataFrame'>\n",
      "Index: 1095 entries, 42271 to 43365\n",
      "Data columns (total 8 columns):\n",
      " #   Column   Non-Null Count  Dtype         \n",
      "---  ------   --------------  -----         \n",
      " 0   STATION  1095 non-null   object        \n",
      " 1   NAME     1095 non-null   object        \n",
      " 2   DATE     1095 non-null   datetime64[ns]\n",
      " 3   PRCP     1095 non-null   float64       \n",
      " 4   SNOW     1095 non-null   float64       \n",
      " 5   SNWD     1095 non-null   float64       \n",
      " 6   TMAX     1095 non-null   float64       \n",
      " 7   TMIN     1095 non-null   float64       \n",
      "dtypes: datetime64[ns](1), float64(5), object(2)\n",
      "memory usage: 77.0+ KB\n"
     ]
    }
   ],
   "source": [
    "df1 = df1.dropna(axis=1, how='any')\n",
    "df1.info()"
   ]
  },
  {
   "cell_type": "code",
   "execution_count": 119,
   "id": "486e679d-c2ac-4d5e-87a7-4933b55b4a0d",
   "metadata": {},
   "outputs": [],
   "source": [
    "def clean_data(original):\n",
    "    clean_df = original[original['STATION'] == 'USW00094728'].copy()\n",
    "    clean_df = clean_df.dropna(axis=1, how='any')\n",
    "    clean_df['DATE'] = pd.to_datetime(clean_df['DATE'])\n",
    "    return clean_df"
   ]
  },
  {
   "cell_type": "code",
   "execution_count": 120,
   "id": "24ccc374-1580-4044-a40e-92b9229ec57d",
   "metadata": {},
   "outputs": [],
   "source": [
    "original_df2 = pd.read_csv(\"1-1-2020_12-31-2022.csv\")\n",
    "original_df3 = pd.read_csv(\"1-1-2023_today.csv\")"
   ]
  },
  {
   "cell_type": "code",
   "execution_count": 121,
   "id": "67727d8d-d9b3-42d0-b2e1-0d9245f745de",
   "metadata": {},
   "outputs": [],
   "source": [
    "df2 = clean_data(original_df2)\n",
    "df3 = clean_data(original_df3)"
   ]
  },
  {
   "cell_type": "code",
   "execution_count": 122,
   "id": "34828a95-43a5-43ff-8909-18c8527fd3e1",
   "metadata": {},
   "outputs": [
    {
     "name": "stdout",
     "output_type": "stream",
     "text": [
      "<class 'pandas.core.frame.DataFrame'>\n",
      "Index: 1096 entries, 45367 to 46462\n",
      "Data columns (total 8 columns):\n",
      " #   Column   Non-Null Count  Dtype         \n",
      "---  ------   --------------  -----         \n",
      " 0   STATION  1096 non-null   object        \n",
      " 1   NAME     1096 non-null   object        \n",
      " 2   DATE     1096 non-null   datetime64[ns]\n",
      " 3   PRCP     1096 non-null   float64       \n",
      " 4   SNOW     1096 non-null   float64       \n",
      " 5   SNWD     1096 non-null   float64       \n",
      " 6   TMAX     1096 non-null   float64       \n",
      " 7   TMIN     1096 non-null   float64       \n",
      "dtypes: datetime64[ns](1), float64(5), object(2)\n",
      "memory usage: 77.1+ KB\n"
     ]
    }
   ],
   "source": [
    "df2.info()"
   ]
  },
  {
   "cell_type": "code",
   "execution_count": 123,
   "id": "77d2e6a4-651d-46b4-9c9b-88e6b96b0180",
   "metadata": {},
   "outputs": [
    {
     "name": "stdout",
     "output_type": "stream",
     "text": [
      "<class 'pandas.core.frame.DataFrame'>\n",
      "Index: 856 entries, 35356 to 36211\n",
      "Data columns (total 8 columns):\n",
      " #   Column   Non-Null Count  Dtype         \n",
      "---  ------   --------------  -----         \n",
      " 0   STATION  856 non-null    object        \n",
      " 1   NAME     856 non-null    object        \n",
      " 2   DATE     856 non-null    datetime64[ns]\n",
      " 3   PRCP     856 non-null    float64       \n",
      " 4   SNOW     856 non-null    float64       \n",
      " 5   SNWD     856 non-null    float64       \n",
      " 6   TMAX     856 non-null    float64       \n",
      " 7   TMIN     856 non-null    float64       \n",
      "dtypes: datetime64[ns](1), float64(5), object(2)\n",
      "memory usage: 60.2+ KB\n"
     ]
    }
   ],
   "source": [
    "df3.info()"
   ]
  },
  {
   "cell_type": "code",
   "execution_count": 124,
   "id": "da440d16-56e0-43f1-846e-9c40a84fd32f",
   "metadata": {},
   "outputs": [
    {
     "name": "stdout",
     "output_type": "stream",
     "text": [
      "<class 'pandas.core.frame.DataFrame'>\n",
      "RangeIndex: 3047 entries, 0 to 3046\n",
      "Data columns (total 8 columns):\n",
      " #   Column   Non-Null Count  Dtype         \n",
      "---  ------   --------------  -----         \n",
      " 0   STATION  3047 non-null   object        \n",
      " 1   NAME     3047 non-null   object        \n",
      " 2   DATE     3047 non-null   datetime64[ns]\n",
      " 3   PRCP     3047 non-null   float64       \n",
      " 4   SNOW     3047 non-null   float64       \n",
      " 5   SNWD     3047 non-null   float64       \n",
      " 6   TMAX     3047 non-null   float64       \n",
      " 7   TMIN     3047 non-null   float64       \n",
      "dtypes: datetime64[ns](1), float64(5), object(2)\n",
      "memory usage: 190.6+ KB\n"
     ]
    }
   ],
   "source": [
    "df = pd.concat([df1, df2, df3], ignore_index=True)\n",
    "df.info()"
   ]
  },
  {
   "cell_type": "code",
   "execution_count": 125,
   "id": "56535fe0-8813-4956-bcbb-24a3fd060187",
   "metadata": {},
   "outputs": [],
   "source": [
    "df = df.drop(columns=['NAME'])"
   ]
  },
  {
   "cell_type": "code",
   "execution_count": 126,
   "id": "4337a229-1d38-47b3-a37f-e1af3faa2dfd",
   "metadata": {},
   "outputs": [
    {
     "name": "stdout",
     "output_type": "stream",
     "text": [
      "<class 'pandas.core.frame.DataFrame'>\n",
      "RangeIndex: 3047 entries, 0 to 3046\n",
      "Data columns (total 7 columns):\n",
      " #   Column   Non-Null Count  Dtype         \n",
      "---  ------   --------------  -----         \n",
      " 0   STATION  3047 non-null   object        \n",
      " 1   DATE     3047 non-null   datetime64[ns]\n",
      " 2   PRCP     3047 non-null   float64       \n",
      " 3   SNOW     3047 non-null   float64       \n",
      " 4   SNWD     3047 non-null   float64       \n",
      " 5   TMAX     3047 non-null   float64       \n",
      " 6   TMIN     3047 non-null   float64       \n",
      "dtypes: datetime64[ns](1), float64(5), object(1)\n",
      "memory usage: 166.8+ KB\n"
     ]
    }
   ],
   "source": [
    "df.info()"
   ]
  },
  {
   "cell_type": "code",
   "execution_count": 127,
   "id": "f7f95c9b-a189-4596-aea5-88396cd6b74a",
   "metadata": {},
   "outputs": [],
   "source": [
    "import matplotlib.pyplot as plt"
   ]
  },
  {
   "cell_type": "code",
   "execution_count": 128,
   "id": "520528c3-2ec2-4810-86e1-3529dec5f78d",
   "metadata": {
    "scrolled": true
   },
   "outputs": [
    {
     "data": {
      "image/png": "[encoded data removed]",
      "text/plain": [
       "<Figure size 1000x800 with 1 Axes>"
      ]
     },
     "metadata": {},
     "output_type": "display_data"
    }
   ],
   "source": [
    "plt.figure(figsize=(10,8))\n",
    "plt.plot(df['DATE'], df['TMAX'], label=\"Max Temp\", color=\"red\")\n",
    "plt.plot(df['DATE'], df['TMIN'], label=\"Min Temp\", color=\"green\")\n",
    "plt.xlabel('Date')\n",
    "plt.ylabel('Temp')\n",
    "plt.show()"
   ]
  },
  {
   "cell_type": "code",
   "execution_count": null,
   "id": "8afc14cd-f951-4688-937c-77bef196c300",
   "metadata": {},
   "outputs": [],
   "source": [
    "rainy_days = df[df['PRCP'] > 0].copy()"
   ]
  }
 ],
 "metadata": {
  "kernelspec": {
   "display_name": "Python 3 (ipykernel)",
   "language": "python",
   "name": "python3"
  },
  "language_info": {
   "codemirror_mode": {
    "name": "ipython",
    "version": 3
   },
   "file_extension": ".py",
   "mimetype": "text/x-python",
   "name": "python",
   "nbconvert_exporter": "python",
   "pygments_lexer": "ipython3",
   "version": "3.9.6"
  }
 },
 "nbformat": 4,
 "nbformat_minor": 5
}
