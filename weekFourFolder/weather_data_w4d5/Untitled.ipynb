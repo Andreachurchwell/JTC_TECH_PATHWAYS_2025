{
 "cells": [
  {
   "cell_type": "code",
   "execution_count": 3,
   "id": "d0a1e08f-2d18-4462-a6da-4c66f16b6e7b",
   "metadata": {},
   "outputs": [],
   "source": [
    "import pandas as pd\n",
    "import numpy as np\n"
   ]
  },
  {
   "cell_type": "code",
   "execution_count": 10,
   "id": "8be5b7cd-b580-4b03-a6cc-6810f351af71",
   "metadata": {},
   "outputs": [
    {
     "data": {
      "text/plain": [
       "(89610, 29)"
      ]
     },
     "execution_count": 10,
     "metadata": {},
     "output_type": "execute_result"
    }
   ],
   "source": [
    "df = pd.read_csv('C:/Users/achur/desktop/python/techPathwayNotes/.venv/weekFourFolder/weather_data_w4d5/6-15-2017_12-31-2019.csv')\n",
    "\n",
    "df.shape                 "
   ]
  },
  {
   "cell_type": "code",
   "execution_count": 11,
   "id": "bd5749d3-a428-4ace-9913-c4404127cd1f",
   "metadata": {},
   "outputs": [
    {
     "name": "stdout",
     "output_type": "stream",
     "text": [
      "<class 'pandas.core.frame.DataFrame'>\n",
      "RangeIndex: 89610 entries, 0 to 89609\n",
      "Data columns (total 29 columns):\n",
      " #   Column   Non-Null Count  Dtype  \n",
      "---  ------   --------------  -----  \n",
      " 0   STATION  89610 non-null  object \n",
      " 1   NAME     89610 non-null  object \n",
      " 2   DATE     89610 non-null  object \n",
      " 3   AWND     8592 non-null   float64\n",
      " 4   DAPR     1278 non-null   float64\n",
      " 5   DASF     2 non-null      float64\n",
      " 6   MDPR     1272 non-null   float64\n",
      " 7   MDSF     2 non-null      float64\n",
      " 8   PGTM     4378 non-null   float64\n",
      " 9   PRCP     87989 non-null  float64\n",
      " 10  SNOW     43874 non-null  float64\n",
      " 11  SNWD     19804 non-null  float64\n",
      " 12  TAVG     3285 non-null   float64\n",
      " 13  TMAX     14724 non-null  float64\n",
      " 14  TMIN     14739 non-null  float64\n",
      " 15  TOBS     5692 non-null   float64\n",
      " 16  WDF2     8601 non-null   float64\n",
      " 17  WDF5     8585 non-null   float64\n",
      " 18  WSF2     8601 non-null   float64\n",
      " 19  WSF5     8585 non-null   float64\n",
      " 20  WT01     2641 non-null   float64\n",
      " 21  WT02     223 non-null    float64\n",
      " 22  WT03     519 non-null    float64\n",
      " 23  WT04     130 non-null    float64\n",
      " 24  WT05     8 non-null      float64\n",
      " 25  WT06     60 non-null     float64\n",
      " 26  WT08     526 non-null    float64\n",
      " 27  WT09     17 non-null     float64\n",
      " 28  WT11     25 non-null     float64\n",
      "dtypes: float64(26), object(3)\n",
      "memory usage: 19.8+ MB\n"
     ]
    },
    {
     "data": {
      "text/plain": [
       "Index(['STATION', 'NAME', 'DATE', 'AWND', 'DAPR', 'DASF', 'MDPR', 'MDSF',\n",
       "       'PGTM', 'PRCP', 'SNOW', 'SNWD', 'TAVG', 'TMAX', 'TMIN', 'TOBS', 'WDF2',\n",
       "       'WDF5', 'WSF2', 'WSF5', 'WT01', 'WT02', 'WT03', 'WT04', 'WT05', 'WT06',\n",
       "       'WT08', 'WT09', 'WT11'],\n",
       "      dtype='object')"
      ]
     },
     "execution_count": 11,
     "metadata": {},
     "output_type": "execute_result"
    }
   ],
   "source": [
    "# Show the first few rows of the dataframe\n",
    "df.head()\n",
    "\n",
    "# Get the basic info of the dataframe (e.g., column names, non-null counts, data types)\n",
    "df.info()\n",
    "\n",
    "# Get summary statistics of numeric columns\n",
    "df.describe()\n",
    "\n",
    "# Check for any missing values in the dataset\n",
    "df.isnull().sum()\n",
    "\n",
    "# Display the shape of the dataframe (rows, columns)\n",
    "df.shape\n",
    "\n",
    "# Count the unique values in each column (useful for categorical columns)\n",
    "df.nunique()\n",
    "\n",
    "# Check the column names to see if they need any adjustments\n",
    "df.columns\n"
   ]
  },
  {
   "cell_type": "code",
   "execution_count": 16,
   "id": "f45ea732-b3c7-4c96-8221-36573373b0eb",
   "metadata": {},
   "outputs": [],
   "source": [
    "df['DATE'] = pd.to_datetime(df['DATE'], errors='coerce')"
   ]
  },
  {
   "cell_type": "code",
   "execution_count": 17,
   "id": "7319be0f-cac2-490a-96aa-9e6a209a8faa",
   "metadata": {},
   "outputs": [
    {
     "data": {
      "text/plain": [
       "STATION        0\n",
       "NAME           0\n",
       "DATE           0\n",
       "AWND       81018\n",
       "DAPR       88332\n",
       "DASF       89608\n",
       "MDPR       88338\n",
       "MDSF       89608\n",
       "PGTM       85232\n",
       "PRCP        1621\n",
       "SNOW       45736\n",
       "SNWD       69806\n",
       "TAVG       86325\n",
       "TMAX       74886\n",
       "TMIN       74871\n",
       "TOBS       83918\n",
       "WDF2       81009\n",
       "WDF5       81025\n",
       "WSF2       81009\n",
       "WSF5       81025\n",
       "WT01       86969\n",
       "WT02       89387\n",
       "WT03       89091\n",
       "WT04       89480\n",
       "WT05       89602\n",
       "WT06       89550\n",
       "WT08       89084\n",
       "WT09       89593\n",
       "WT11       89585\n",
       "dtype: int64"
      ]
     },
     "execution_count": 17,
     "metadata": {},
     "output_type": "execute_result"
    }
   ],
   "source": [
    "df.isnull().sum()\n"
   ]
  },
  {
   "cell_type": "code",
   "execution_count": null,
   "id": "3a63e9b1-c5bb-4a40-a2df-7904039f230c",
   "metadata": {},
   "outputs": [],
   "source": []
  }
 ],
 "metadata": {
  "kernelspec": {
   "display_name": "Python 3 (ipykernel)",
   "language": "python",
   "name": "python3"
  },
  "language_info": {
   "codemirror_mode": {
    "name": "ipython",
    "version": 3
   },
   "file_extension": ".py",
   "mimetype": "text/x-python",
   "name": "python",
   "nbconvert_exporter": "python",
   "pygments_lexer": "ipython3",
   "version": "3.12.3"
  }
 },
 "nbformat": 4,
 "nbformat_minor": 5
}
